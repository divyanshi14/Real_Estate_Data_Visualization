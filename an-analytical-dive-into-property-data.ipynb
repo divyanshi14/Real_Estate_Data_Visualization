{
 "cells": [
  {
   "cell_type": "code",
   "execution_count": 1,
   "id": "ffc2d735",
   "metadata": {
    "_cell_guid": "b1076dfc-b9ad-4769-8c92-a6c4dae69d19",
    "_uuid": "8f2839f25d086af736a60e9eeb907d3b93b6e0e5",
    "execution": {
     "iopub.execute_input": "2024-01-14T17:18:00.683638Z",
     "iopub.status.busy": "2024-01-14T17:18:00.683257Z",
     "iopub.status.idle": "2024-01-14T17:18:01.494641Z",
     "shell.execute_reply": "2024-01-14T17:18:01.493628Z"
    },
    "papermill": {
     "duration": 0.825764,
     "end_time": "2024-01-14T17:18:01.497527",
     "exception": false,
     "start_time": "2024-01-14T17:18:00.671763",
     "status": "completed"
    },
    "tags": []
   },
   "outputs": [
    {
     "name": "stdout",
     "output_type": "stream",
     "text": [
      "/kaggle/input/real-estate-data-sourced-from-99acres-com/houses.csv\n",
      "/kaggle/input/real-estate-data-sourced-from-99acres-com/flats.csv\n"
     ]
    }
   ],
   "source": [
    "# This Python 3 environment comes with many helpful analytics libraries installed\n",
    "# It is defined by the kaggle/python Docker image: https://github.com/kaggle/docker-python\n",
    "# For example, here's several helpful packages to load\n",
    "\n",
    "import numpy as np # linear algebra\n",
    "import pandas as pd # data processing, CSV file I/O (e.g. pd.read_csv)\n",
    "\n",
    "# Input data files are available in the read-only \"../input/\" directory\n",
    "# For example, running this (by clicking run or pressing Shift+Enter) will list all files under the input directory\n",
    "\n",
    "import os\n",
    "for dirname, _, filenames in os.walk('/kaggle/input'):\n",
    "    for filename in filenames:\n",
    "        print(os.path.join(dirname, filename))\n",
    "\n",
    "# You can write up to 20GB to the current directory (/kaggle/working/) that gets preserved as output when you create a version using \"Save & Run All\" \n",
    "# You can also write temporary files to /kaggle/temp/, but they won't be saved outside of the current session"
   ]
  },
  {
   "cell_type": "markdown",
   "id": "65bc1a4b",
   "metadata": {
    "papermill": {
     "duration": 0.009213,
     "end_time": "2024-01-14T17:18:01.516380",
     "exception": false,
     "start_time": "2024-01-14T17:18:01.507167",
     "status": "completed"
    },
    "tags": []
   },
   "source": [
    "# **REAL ESTATE INSIGHTS**"
   ]
  },
  {
   "cell_type": "markdown",
   "id": "dc734c9e",
   "metadata": {
    "papermill": {
     "duration": 0.009143,
     "end_time": "2024-01-14T17:18:01.534896",
     "exception": false,
     "start_time": "2024-01-14T17:18:01.525753",
     "status": "completed"
    },
    "tags": []
   },
   "source": [
    "<img src = \"https://www.bworldonline.com/wp-content/uploads/2023/08/SF_Real-estate-deals-between-agent-and-client-shaking-hands-OL.jpg\">"
   ]
  },
  {
   "cell_type": "markdown",
   "id": "3c3426a7",
   "metadata": {
    "papermill": {
     "duration": 0.008964,
     "end_time": "2024-01-14T17:18:01.553234",
     "exception": false,
     "start_time": "2024-01-14T17:18:01.544270",
     "status": "completed"
    },
    "tags": []
   },
   "source": [
    "## **The following topics are covered in this project:**\n",
    "\n",
    "* Description of Dataset\n",
    "* Objective\n",
    "* Data Importing and Understanding\n",
    "* Data Preprocessing\n",
    "* Exploratory Analysis and Visualization\n",
    "* Asking and answering interesting questions\n",
    "* Summarizing inferences and drawing conclusions"
   ]
  },
  {
   "cell_type": "markdown",
   "id": "3bd65048",
   "metadata": {
    "papermill": {
     "duration": 0.008968,
     "end_time": "2024-01-14T17:18:01.571421",
     "exception": false,
     "start_time": "2024-01-14T17:18:01.562453",
     "status": "completed"
    },
    "tags": []
   },
   "source": [
    "# **Description of Dataset**\n",
    "\n",
    "* **property_name**: Name or description of the flat.\n",
    "* **society**: The housing society or complex name.\n",
    "* **price**: The listed price of the flat.\n",
    "* **rate**: Rate of the flat (possibly per unit area).\n",
    "* **areaWithType**: The area of the flat with type.\n",
    "* **bedroom, bathroom, balcony**: The number of bedrooms, bathrooms, and balconies.\n",
    "* **additionalRoom**: Information about additional rooms.\n",
    "* **address**: The address of the flat.\n",
    "* **floorNum**: The floor number on which the flat is located.\n",
    "* **facing**: The direction the flat faces.\n",
    "* **agePossession**: Age of the flat or possession details.\n",
    "* **nearbyLocations**: Nearby locations or landmarks.\n",
    "* **description**: A description of the flat.\n",
    "* **furnishDetails**: Details about furnishings.\n",
    "* **features**: Features of the flat.\n",
    "* **rating**: Ratings given to the flat.\n",
    "* **property_id**: A unique identifier for the flat.\n"
   ]
  },
  {
   "cell_type": "markdown",
   "id": "d5713e54",
   "metadata": {
    "papermill": {
     "duration": 0.00922,
     "end_time": "2024-01-14T17:18:01.589996",
     "exception": false,
     "start_time": "2024-01-14T17:18:01.580776",
     "status": "completed"
    },
    "tags": []
   },
   "source": [
    "# **Objective**\n",
    "\n",
    "* **What is the problem?**\n",
    "\n",
    "  Understanding and analyzing various aspects of the real estate market, particularly in the context of   flats, includes pricing, location preferences, and property features.\n",
    "\n",
    "* **Why is it important to solve it?**\n",
    "  \n",
    "  This analysis can provide insights into market trends, consumer preferences, and investment             opportunities in the real estate sector. It is also crucial for developing data analysis skills in       practical, real-world contexts.\n"
   ]
  },
  {
   "cell_type": "markdown",
   "id": "6893b75e",
   "metadata": {
    "papermill": {
     "duration": 0.009025,
     "end_time": "2024-01-14T17:18:01.608330",
     "exception": false,
     "start_time": "2024-01-14T17:18:01.599305",
     "status": "completed"
    },
    "tags": []
   },
   "source": [
    "# **Data Importing and Understanding**"
   ]
  },
  {
   "cell_type": "code",
   "execution_count": 2,
   "id": "a78e7530",
   "metadata": {
    "execution": {
     "iopub.execute_input": "2024-01-14T17:18:01.629137Z",
     "iopub.status.busy": "2024-01-14T17:18:01.628585Z",
     "iopub.status.idle": "2024-01-14T17:18:01.848447Z",
     "shell.execute_reply": "2024-01-14T17:18:01.847361Z"
    },
    "papermill": {
     "duration": 0.233675,
     "end_time": "2024-01-14T17:18:01.851274",
     "exception": false,
     "start_time": "2024-01-14T17:18:01.617599",
     "status": "completed"
    },
    "tags": []
   },
   "outputs": [
    {
     "data": {
      "text/html": [
       "<div>\n",
       "<style scoped>\n",
       "    .dataframe tbody tr th:only-of-type {\n",
       "        vertical-align: middle;\n",
       "    }\n",
       "\n",
       "    .dataframe tbody tr th {\n",
       "        vertical-align: top;\n",
       "    }\n",
       "\n",
       "    .dataframe thead th {\n",
       "        text-align: right;\n",
       "    }\n",
       "</style>\n",
       "<table border=\"1\" class=\"dataframe\">\n",
       "  <thead>\n",
       "    <tr style=\"text-align: right;\">\n",
       "      <th></th>\n",
       "      <th>property_name</th>\n",
       "      <th>link</th>\n",
       "      <th>society</th>\n",
       "      <th>price</th>\n",
       "      <th>rate</th>\n",
       "      <th>areaWithType</th>\n",
       "      <th>bedRoom</th>\n",
       "      <th>bathroom</th>\n",
       "      <th>balcony</th>\n",
       "      <th>additionalRoom</th>\n",
       "      <th>address</th>\n",
       "      <th>floorNum</th>\n",
       "      <th>facing</th>\n",
       "      <th>agePossession</th>\n",
       "      <th>nearbyLocations</th>\n",
       "      <th>description</th>\n",
       "      <th>furnishDetails</th>\n",
       "      <th>features</th>\n",
       "      <th>rating</th>\n",
       "      <th>property_id</th>\n",
       "    </tr>\n",
       "  </thead>\n",
       "  <tbody>\n",
       "    <tr>\n",
       "      <th>0</th>\n",
       "      <td>2 BHK Flat in Krishna Colony</td>\n",
       "      <td>https://www.99acres.com/2-bhk-bedroom-apartmen...</td>\n",
       "      <td>maa bhagwati residency</td>\n",
       "      <td>45 Lac</td>\n",
       "      <td>₹ 5,000/sq.ft.</td>\n",
       "      <td>Carpet area: 900 (83.61 sq.m.)</td>\n",
       "      <td>2 Bedrooms</td>\n",
       "      <td>2 Bathrooms</td>\n",
       "      <td>1 Balcony</td>\n",
       "      <td>NaN</td>\n",
       "      <td>Krishna Colony, Gurgaon, Haryana</td>\n",
       "      <td>4th   of 4 Floors</td>\n",
       "      <td>West</td>\n",
       "      <td>1 to 5 Year Old</td>\n",
       "      <td>['Chintapurni Mandir', 'State bank ATM', 'Pear...</td>\n",
       "      <td>So with lift.Maa bhagwati residency is one of ...</td>\n",
       "      <td>['3 Fan', '4 Light', '1 Wardrobe', 'No AC', 'N...</td>\n",
       "      <td>['Feng Shui / Vaastu Compliant', 'Security / F...</td>\n",
       "      <td>['Environment4 out of 5', 'Safety4 out of 5', ...</td>\n",
       "      <td>C68850746</td>\n",
       "    </tr>\n",
       "    <tr>\n",
       "      <th>1</th>\n",
       "      <td>2 BHK Flat in Ashok Vihar</td>\n",
       "      <td>https://www.99acres.com/2-bhk-bedroom-apartmen...</td>\n",
       "      <td>Apna Enclave</td>\n",
       "      <td>50 Lac</td>\n",
       "      <td>₹ 7,692/sq.ft.</td>\n",
       "      <td>Carpet area: 650 (60.39 sq.m.)</td>\n",
       "      <td>2 Bedrooms</td>\n",
       "      <td>2 Bathrooms</td>\n",
       "      <td>1 Balcony</td>\n",
       "      <td>NaN</td>\n",
       "      <td>46b, Ashok Vihar, Gurgaon, Haryana</td>\n",
       "      <td>1st   of 3 Floors</td>\n",
       "      <td>West</td>\n",
       "      <td>10+ Year Old</td>\n",
       "      <td>['Chintapurni Mandir', 'Sheetla Mata Mandir', ...</td>\n",
       "      <td>Property situated on main road, railway statio...</td>\n",
       "      <td>['3 Wardrobe', '4 Fan', '1 Exhaust Fan', '1 Ge...</td>\n",
       "      <td>['Security / Fire Alarm', 'Maintenance Staff',...</td>\n",
       "      <td>['Environment4 out of 5', 'Safety4 out of 5', ...</td>\n",
       "      <td>H68850564</td>\n",
       "    </tr>\n",
       "    <tr>\n",
       "      <th>2</th>\n",
       "      <td>2 BHK Flat in Sohna</td>\n",
       "      <td>https://www.99acres.com/2-bhk-bedroom-apartmen...</td>\n",
       "      <td>Tulsiani Easy in Homes</td>\n",
       "      <td>40 Lac</td>\n",
       "      <td>₹ 6,722/sq.ft.</td>\n",
       "      <td>Carpet area: 595 (55.28 sq.m.)</td>\n",
       "      <td>2 Bedrooms</td>\n",
       "      <td>2 Bathrooms</td>\n",
       "      <td>3 Balconies</td>\n",
       "      <td>NaN</td>\n",
       "      <td>Sohna, Gurgaon, Haryana</td>\n",
       "      <td>12nd   of 14 Floors</td>\n",
       "      <td>NaN</td>\n",
       "      <td>0 to 1 Year Old</td>\n",
       "      <td>['Huda City Metro', 'Golf Course extn road', '...</td>\n",
       "      <td>This property is 15 km away from badshapur, gu...</td>\n",
       "      <td>NaN</td>\n",
       "      <td>['Power Back-up', 'Feng Shui / Vaastu Complian...</td>\n",
       "      <td>['Environment4 out of 5', 'Safety4 out of 5', ...</td>\n",
       "      <td>J68850120</td>\n",
       "    </tr>\n",
       "    <tr>\n",
       "      <th>3</th>\n",
       "      <td>2 BHK Flat in Sector 61 Gurgaon</td>\n",
       "      <td>https://www.99acres.com/2-bhk-bedroom-apartmen...</td>\n",
       "      <td>Smart World Orchard</td>\n",
       "      <td>1.47 Crore</td>\n",
       "      <td>₹ 12,250/sq.ft.</td>\n",
       "      <td>Carpet area: 1200 (111.48 sq.m.)</td>\n",
       "      <td>2 Bedrooms</td>\n",
       "      <td>2 Bathrooms</td>\n",
       "      <td>2 Balconies</td>\n",
       "      <td>Study Room</td>\n",
       "      <td>Sector 61 Gurgaon, Gurgaon, Haryana</td>\n",
       "      <td>2nd   of 4 Floors</td>\n",
       "      <td>NaN</td>\n",
       "      <td>Dec-23</td>\n",
       "      <td>['Sector 55-56 Metro station', 'Bestech Centra...</td>\n",
       "      <td>Near to metro station of sector 56 and opposit...</td>\n",
       "      <td>NaN</td>\n",
       "      <td>['Security / Fire Alarm', 'Private Garden / Te...</td>\n",
       "      <td>NaN</td>\n",
       "      <td>S68849476</td>\n",
       "    </tr>\n",
       "    <tr>\n",
       "      <th>4</th>\n",
       "      <td>2 BHK Flat in Sector 92 Gurgaon</td>\n",
       "      <td>https://www.99acres.com/2-bhk-bedroom-apartmen...</td>\n",
       "      <td>Parkwood Westend</td>\n",
       "      <td>70 Lac</td>\n",
       "      <td>₹ 5,204/sq.ft.</td>\n",
       "      <td>Super Built up area 1345(124.95 sq.m.)</td>\n",
       "      <td>2 Bedrooms</td>\n",
       "      <td>2 Bathrooms</td>\n",
       "      <td>3 Balconies</td>\n",
       "      <td>Study Room</td>\n",
       "      <td>Sector 92 Gurgaon, Gurgaon, Haryana</td>\n",
       "      <td>5th   of 8 Floors</td>\n",
       "      <td>NaN</td>\n",
       "      <td>Under Construction</td>\n",
       "      <td>['Yadav Clinic', 'Bangali Clinic', 'Dr. J. S. ...</td>\n",
       "      <td>We are the proud owners of this 2 bhk alongwit...</td>\n",
       "      <td>[]</td>\n",
       "      <td>NaN</td>\n",
       "      <td>['Environment5 out of 5', 'Safety3 out of 5', ...</td>\n",
       "      <td>L47956793</td>\n",
       "    </tr>\n",
       "    <tr>\n",
       "      <th>...</th>\n",
       "      <td>...</td>\n",
       "      <td>...</td>\n",
       "      <td>...</td>\n",
       "      <td>...</td>\n",
       "      <td>...</td>\n",
       "      <td>...</td>\n",
       "      <td>...</td>\n",
       "      <td>...</td>\n",
       "      <td>...</td>\n",
       "      <td>...</td>\n",
       "      <td>...</td>\n",
       "      <td>...</td>\n",
       "      <td>...</td>\n",
       "      <td>...</td>\n",
       "      <td>...</td>\n",
       "      <td>...</td>\n",
       "      <td>...</td>\n",
       "      <td>...</td>\n",
       "      <td>...</td>\n",
       "      <td>...</td>\n",
       "    </tr>\n",
       "    <tr>\n",
       "      <th>3012</th>\n",
       "      <td>3 BHK Flat in Sector 86 Gurgaon</td>\n",
       "      <td>https://www.99acres.com/3-bhk-bedroom-apartmen...</td>\n",
       "      <td>Ansal Heights 86</td>\n",
       "      <td>1.05 Crore</td>\n",
       "      <td>₹ 5,541/sq.ft.</td>\n",
       "      <td>Super Built up area 1895(176.05 sq.m.)</td>\n",
       "      <td>3 Bedrooms</td>\n",
       "      <td>3 Bathrooms</td>\n",
       "      <td>3 Balconies</td>\n",
       "      <td>Servant Room</td>\n",
       "      <td>Tower C, Sector 86 Gurgaon, Gurgaon, Haryana</td>\n",
       "      <td>9th   of 13 Floors</td>\n",
       "      <td>North-East</td>\n",
       "      <td>Under Construction</td>\n",
       "      <td>['IRIS Broadway Mall', 'Delhi Jaipur Expresswa...</td>\n",
       "      <td>Residential apartment for sell.Located in sect...</td>\n",
       "      <td>[]</td>\n",
       "      <td>NaN</td>\n",
       "      <td>['Safety4.5 out of 5', 'Lifestyle5 out of 5', ...</td>\n",
       "      <td>D26586124</td>\n",
       "    </tr>\n",
       "    <tr>\n",
       "      <th>3013</th>\n",
       "      <td>5 BHK Flat in Sector 48 Gurgaon</td>\n",
       "      <td>https://www.99acres.com/5-bhk-bedroom-apartmen...</td>\n",
       "      <td>Parsvnath Green Ville3.9 ★</td>\n",
       "      <td>3.3 Crore</td>\n",
       "      <td>₹ 9,984/sq.ft.</td>\n",
       "      <td>Super Built up area 3905(362.79 sq.m.)Built Up...</td>\n",
       "      <td>5 Bedrooms</td>\n",
       "      <td>5 Bathrooms</td>\n",
       "      <td>3+ Balconies</td>\n",
       "      <td>Servant Room</td>\n",
       "      <td>Sector 48 Gurgaon, Gurgaon, Haryana</td>\n",
       "      <td>4th   of 5 Floors</td>\n",
       "      <td>NaN</td>\n",
       "      <td>10+ Year Old</td>\n",
       "      <td>['Sri Radhe Krishna Temple', 'Icici bank ATM',...</td>\n",
       "      <td>5 bhk duplex penthouse in low rise building.Av...</td>\n",
       "      <td>NaN</td>\n",
       "      <td>['Security / Fire Alarm', 'Private Garden / Te...</td>\n",
       "      <td>['Management4 out of 5', 'Green Area4 out of 5...</td>\n",
       "      <td>J17123294</td>\n",
       "    </tr>\n",
       "    <tr>\n",
       "      <th>3014</th>\n",
       "      <td>3 BHK Flat in Sector 108 Gurgaon</td>\n",
       "      <td>https://www.99acres.com/3-bhk-bedroom-apartmen...</td>\n",
       "      <td>Raheja Vedaanta3.6 ★</td>\n",
       "      <td>95 Lac</td>\n",
       "      <td>₹ 5,214/sq.ft.</td>\n",
       "      <td>Super Built up area 1822(169.27 sq.m.)</td>\n",
       "      <td>3 Bedrooms</td>\n",
       "      <td>3 Bathrooms</td>\n",
       "      <td>3 Balconies</td>\n",
       "      <td>Others</td>\n",
       "      <td>Sector 108 Gurgaon, Gurgaon, Haryana</td>\n",
       "      <td>3rd   of 22 Floors</td>\n",
       "      <td>NaN</td>\n",
       "      <td>1 to 5 Year Old</td>\n",
       "      <td>NaN</td>\n",
       "      <td>3 bedroom flat with full woodwork. Ready to mo...</td>\n",
       "      <td>[]</td>\n",
       "      <td>['Security / Fire Alarm', 'Feng Shui / Vaastu ...</td>\n",
       "      <td>['Management3 out of 5', 'Green Area4 out of 5...</td>\n",
       "      <td>A41215323</td>\n",
       "    </tr>\n",
       "    <tr>\n",
       "      <th>3015</th>\n",
       "      <td>3 BHK Flat in DLF Phase 3</td>\n",
       "      <td>https://www.99acres.com/3-bhk-bedroom-apartmen...</td>\n",
       "      <td>Ambience Lagoon3.9 ★</td>\n",
       "      <td>5.8 Crore</td>\n",
       "      <td>₹ 12,500/sq.ft.</td>\n",
       "      <td>Built Up area: 3700 (343.74 sq.m.)</td>\n",
       "      <td>3 Bedrooms</td>\n",
       "      <td>4 Bathrooms</td>\n",
       "      <td>3+ Balconies</td>\n",
       "      <td>Pooja Room,Study Room,Servant Room,Others</td>\n",
       "      <td>Gurgaon, DLF Phase 3, Gurgaon, Haryana</td>\n",
       "      <td>9th   of 9 Floors</td>\n",
       "      <td>North-East</td>\n",
       "      <td>10+ Year Old</td>\n",
       "      <td>['Micromax moulsari avenue metro station', 'In...</td>\n",
       "      <td>Luxury condominium complex located on delhi gu...</td>\n",
       "      <td>['1 Water Purifier', '10 Fan', '1 Fridge', '1 ...</td>\n",
       "      <td>['Security / Fire Alarm', 'Private Garden / Te...</td>\n",
       "      <td>['Management5 out of 5', 'Green Area5 out of 5...</td>\n",
       "      <td>J18888617</td>\n",
       "    </tr>\n",
       "    <tr>\n",
       "      <th>3016</th>\n",
       "      <td>4 BHK Flat in Sector 54 Gurgaon</td>\n",
       "      <td>https://www.99acres.com/4-bhk-bedroom-apartmen...</td>\n",
       "      <td>DLF The Crest3.6 ★</td>\n",
       "      <td>11 Crore</td>\n",
       "      <td>₹ 35,222/sq.ft.</td>\n",
       "      <td>Super Built up area 3123(290.14 sq.m.)</td>\n",
       "      <td>4 Bedrooms</td>\n",
       "      <td>6 Bathrooms</td>\n",
       "      <td>3 Balconies</td>\n",
       "      <td>Servant Room</td>\n",
       "      <td>Sector 54 Gurgaon, Gurgaon, Haryana</td>\n",
       "      <td>7th   of 36 Floors</td>\n",
       "      <td>NaN</td>\n",
       "      <td>1 to 5 Year Old</td>\n",
       "      <td>['Sector 53-54 Metro Station', 'Ardee Mall', '...</td>\n",
       "      <td>Club &amp; pool facing\\nVrv air conditioning</td>\n",
       "      <td>['6 Fan', '1 Fridge', '1 Exhaust Fan', '5 Geys...</td>\n",
       "      <td>['Security / Fire Alarm', 'Power Back-up', 'In...</td>\n",
       "      <td>['Management4 out of 5', 'Green Area4 out of 5...</td>\n",
       "      <td>V70296402</td>\n",
       "    </tr>\n",
       "  </tbody>\n",
       "</table>\n",
       "<p>3017 rows × 20 columns</p>\n",
       "</div>"
      ],
      "text/plain": [
       "                         property_name  \\\n",
       "0         2 BHK Flat in Krishna Colony   \n",
       "1            2 BHK Flat in Ashok Vihar   \n",
       "2                  2 BHK Flat in Sohna   \n",
       "3      2 BHK Flat in Sector 61 Gurgaon   \n",
       "4      2 BHK Flat in Sector 92 Gurgaon   \n",
       "...                                ...   \n",
       "3012   3 BHK Flat in Sector 86 Gurgaon   \n",
       "3013   5 BHK Flat in Sector 48 Gurgaon   \n",
       "3014  3 BHK Flat in Sector 108 Gurgaon   \n",
       "3015         3 BHK Flat in DLF Phase 3   \n",
       "3016   4 BHK Flat in Sector 54 Gurgaon   \n",
       "\n",
       "                                                   link  \\\n",
       "0     https://www.99acres.com/2-bhk-bedroom-apartmen...   \n",
       "1     https://www.99acres.com/2-bhk-bedroom-apartmen...   \n",
       "2     https://www.99acres.com/2-bhk-bedroom-apartmen...   \n",
       "3     https://www.99acres.com/2-bhk-bedroom-apartmen...   \n",
       "4     https://www.99acres.com/2-bhk-bedroom-apartmen...   \n",
       "...                                                 ...   \n",
       "3012  https://www.99acres.com/3-bhk-bedroom-apartmen...   \n",
       "3013  https://www.99acres.com/5-bhk-bedroom-apartmen...   \n",
       "3014  https://www.99acres.com/3-bhk-bedroom-apartmen...   \n",
       "3015  https://www.99acres.com/3-bhk-bedroom-apartmen...   \n",
       "3016  https://www.99acres.com/4-bhk-bedroom-apartmen...   \n",
       "\n",
       "                         society       price             rate  \\\n",
       "0         maa bhagwati residency      45 Lac   ₹ 5,000/sq.ft.   \n",
       "1                   Apna Enclave      50 Lac   ₹ 7,692/sq.ft.   \n",
       "2         Tulsiani Easy in Homes      40 Lac   ₹ 6,722/sq.ft.   \n",
       "3            Smart World Orchard  1.47 Crore  ₹ 12,250/sq.ft.   \n",
       "4               Parkwood Westend      70 Lac   ₹ 5,204/sq.ft.   \n",
       "...                          ...         ...              ...   \n",
       "3012            Ansal Heights 86  1.05 Crore   ₹ 5,541/sq.ft.   \n",
       "3013  Parsvnath Green Ville3.9 ★   3.3 Crore   ₹ 9,984/sq.ft.   \n",
       "3014        Raheja Vedaanta3.6 ★      95 Lac   ₹ 5,214/sq.ft.   \n",
       "3015        Ambience Lagoon3.9 ★   5.8 Crore  ₹ 12,500/sq.ft.   \n",
       "3016          DLF The Crest3.6 ★    11 Crore  ₹ 35,222/sq.ft.   \n",
       "\n",
       "                                           areaWithType     bedRoom  \\\n",
       "0                        Carpet area: 900 (83.61 sq.m.)  2 Bedrooms   \n",
       "1                        Carpet area: 650 (60.39 sq.m.)  2 Bedrooms   \n",
       "2                        Carpet area: 595 (55.28 sq.m.)  2 Bedrooms   \n",
       "3                      Carpet area: 1200 (111.48 sq.m.)  2 Bedrooms   \n",
       "4                Super Built up area 1345(124.95 sq.m.)  2 Bedrooms   \n",
       "...                                                 ...         ...   \n",
       "3012             Super Built up area 1895(176.05 sq.m.)  3 Bedrooms   \n",
       "3013  Super Built up area 3905(362.79 sq.m.)Built Up...  5 Bedrooms   \n",
       "3014             Super Built up area 1822(169.27 sq.m.)  3 Bedrooms   \n",
       "3015                 Built Up area: 3700 (343.74 sq.m.)  3 Bedrooms   \n",
       "3016             Super Built up area 3123(290.14 sq.m.)  4 Bedrooms   \n",
       "\n",
       "         bathroom       balcony                             additionalRoom  \\\n",
       "0     2 Bathrooms     1 Balcony                                        NaN   \n",
       "1     2 Bathrooms     1 Balcony                                        NaN   \n",
       "2     2 Bathrooms   3 Balconies                                        NaN   \n",
       "3     2 Bathrooms   2 Balconies                                 Study Room   \n",
       "4     2 Bathrooms   3 Balconies                                 Study Room   \n",
       "...           ...           ...                                        ...   \n",
       "3012  3 Bathrooms   3 Balconies                               Servant Room   \n",
       "3013  5 Bathrooms  3+ Balconies                               Servant Room   \n",
       "3014  3 Bathrooms   3 Balconies                                     Others   \n",
       "3015  4 Bathrooms  3+ Balconies  Pooja Room,Study Room,Servant Room,Others   \n",
       "3016  6 Bathrooms   3 Balconies                               Servant Room   \n",
       "\n",
       "                                           address             floorNum  \\\n",
       "0                 Krishna Colony, Gurgaon, Haryana    4th   of 4 Floors   \n",
       "1               46b, Ashok Vihar, Gurgaon, Haryana    1st   of 3 Floors   \n",
       "2                          Sohna, Gurgaon, Haryana  12nd   of 14 Floors   \n",
       "3              Sector 61 Gurgaon, Gurgaon, Haryana    2nd   of 4 Floors   \n",
       "4              Sector 92 Gurgaon, Gurgaon, Haryana    5th   of 8 Floors   \n",
       "...                                            ...                  ...   \n",
       "3012  Tower C, Sector 86 Gurgaon, Gurgaon, Haryana   9th   of 13 Floors   \n",
       "3013           Sector 48 Gurgaon, Gurgaon, Haryana    4th   of 5 Floors   \n",
       "3014          Sector 108 Gurgaon, Gurgaon, Haryana   3rd   of 22 Floors   \n",
       "3015        Gurgaon, DLF Phase 3, Gurgaon, Haryana    9th   of 9 Floors   \n",
       "3016           Sector 54 Gurgaon, Gurgaon, Haryana   7th   of 36 Floors   \n",
       "\n",
       "          facing       agePossession  \\\n",
       "0           West     1 to 5 Year Old   \n",
       "1           West        10+ Year Old   \n",
       "2            NaN     0 to 1 Year Old   \n",
       "3            NaN              Dec-23   \n",
       "4            NaN  Under Construction   \n",
       "...          ...                 ...   \n",
       "3012  North-East  Under Construction   \n",
       "3013         NaN        10+ Year Old   \n",
       "3014         NaN     1 to 5 Year Old   \n",
       "3015  North-East        10+ Year Old   \n",
       "3016         NaN     1 to 5 Year Old   \n",
       "\n",
       "                                        nearbyLocations  \\\n",
       "0     ['Chintapurni Mandir', 'State bank ATM', 'Pear...   \n",
       "1     ['Chintapurni Mandir', 'Sheetla Mata Mandir', ...   \n",
       "2     ['Huda City Metro', 'Golf Course extn road', '...   \n",
       "3     ['Sector 55-56 Metro station', 'Bestech Centra...   \n",
       "4     ['Yadav Clinic', 'Bangali Clinic', 'Dr. J. S. ...   \n",
       "...                                                 ...   \n",
       "3012  ['IRIS Broadway Mall', 'Delhi Jaipur Expresswa...   \n",
       "3013  ['Sri Radhe Krishna Temple', 'Icici bank ATM',...   \n",
       "3014                                                NaN   \n",
       "3015  ['Micromax moulsari avenue metro station', 'In...   \n",
       "3016  ['Sector 53-54 Metro Station', 'Ardee Mall', '...   \n",
       "\n",
       "                                            description  \\\n",
       "0     So with lift.Maa bhagwati residency is one of ...   \n",
       "1     Property situated on main road, railway statio...   \n",
       "2     This property is 15 km away from badshapur, gu...   \n",
       "3     Near to metro station of sector 56 and opposit...   \n",
       "4     We are the proud owners of this 2 bhk alongwit...   \n",
       "...                                                 ...   \n",
       "3012  Residential apartment for sell.Located in sect...   \n",
       "3013  5 bhk duplex penthouse in low rise building.Av...   \n",
       "3014  3 bedroom flat with full woodwork. Ready to mo...   \n",
       "3015  Luxury condominium complex located on delhi gu...   \n",
       "3016           Club & pool facing\\nVrv air conditioning   \n",
       "\n",
       "                                         furnishDetails  \\\n",
       "0     ['3 Fan', '4 Light', '1 Wardrobe', 'No AC', 'N...   \n",
       "1     ['3 Wardrobe', '4 Fan', '1 Exhaust Fan', '1 Ge...   \n",
       "2                                                   NaN   \n",
       "3                                                   NaN   \n",
       "4                                                    []   \n",
       "...                                                 ...   \n",
       "3012                                                 []   \n",
       "3013                                                NaN   \n",
       "3014                                                 []   \n",
       "3015  ['1 Water Purifier', '10 Fan', '1 Fridge', '1 ...   \n",
       "3016  ['6 Fan', '1 Fridge', '1 Exhaust Fan', '5 Geys...   \n",
       "\n",
       "                                               features  \\\n",
       "0     ['Feng Shui / Vaastu Compliant', 'Security / F...   \n",
       "1     ['Security / Fire Alarm', 'Maintenance Staff',...   \n",
       "2     ['Power Back-up', 'Feng Shui / Vaastu Complian...   \n",
       "3     ['Security / Fire Alarm', 'Private Garden / Te...   \n",
       "4                                                   NaN   \n",
       "...                                                 ...   \n",
       "3012                                                NaN   \n",
       "3013  ['Security / Fire Alarm', 'Private Garden / Te...   \n",
       "3014  ['Security / Fire Alarm', 'Feng Shui / Vaastu ...   \n",
       "3015  ['Security / Fire Alarm', 'Private Garden / Te...   \n",
       "3016  ['Security / Fire Alarm', 'Power Back-up', 'In...   \n",
       "\n",
       "                                                 rating property_id  \n",
       "0     ['Environment4 out of 5', 'Safety4 out of 5', ...   C68850746  \n",
       "1     ['Environment4 out of 5', 'Safety4 out of 5', ...   H68850564  \n",
       "2     ['Environment4 out of 5', 'Safety4 out of 5', ...   J68850120  \n",
       "3                                                   NaN   S68849476  \n",
       "4     ['Environment5 out of 5', 'Safety3 out of 5', ...   L47956793  \n",
       "...                                                 ...         ...  \n",
       "3012  ['Safety4.5 out of 5', 'Lifestyle5 out of 5', ...   D26586124  \n",
       "3013  ['Management4 out of 5', 'Green Area4 out of 5...   J17123294  \n",
       "3014  ['Management3 out of 5', 'Green Area4 out of 5...   A41215323  \n",
       "3015  ['Management5 out of 5', 'Green Area5 out of 5...   J18888617  \n",
       "3016  ['Management4 out of 5', 'Green Area4 out of 5...   V70296402  \n",
       "\n",
       "[3017 rows x 20 columns]"
      ]
     },
     "execution_count": 2,
     "metadata": {},
     "output_type": "execute_result"
    }
   ],
   "source": [
    "df = pd.read_csv(\"/kaggle/input/real-estate-data-sourced-from-99acres-com/flats.csv\")\n",
    "df"
   ]
  },
  {
   "cell_type": "code",
   "execution_count": 3,
   "id": "3d5e9857",
   "metadata": {
    "execution": {
     "iopub.execute_input": "2024-01-14T17:18:01.873608Z",
     "iopub.status.busy": "2024-01-14T17:18:01.872935Z",
     "iopub.status.idle": "2024-01-14T17:18:01.892687Z",
     "shell.execute_reply": "2024-01-14T17:18:01.891581Z"
    },
    "papermill": {
     "duration": 0.033811,
     "end_time": "2024-01-14T17:18:01.895079",
     "exception": false,
     "start_time": "2024-01-14T17:18:01.861268",
     "status": "completed"
    },
    "tags": []
   },
   "outputs": [
    {
     "data": {
      "text/html": [
       "<div>\n",
       "<style scoped>\n",
       "    .dataframe tbody tr th:only-of-type {\n",
       "        vertical-align: middle;\n",
       "    }\n",
       "\n",
       "    .dataframe tbody tr th {\n",
       "        vertical-align: top;\n",
       "    }\n",
       "\n",
       "    .dataframe thead th {\n",
       "        text-align: right;\n",
       "    }\n",
       "</style>\n",
       "<table border=\"1\" class=\"dataframe\">\n",
       "  <thead>\n",
       "    <tr style=\"text-align: right;\">\n",
       "      <th></th>\n",
       "      <th>property_name</th>\n",
       "      <th>link</th>\n",
       "      <th>society</th>\n",
       "      <th>price</th>\n",
       "      <th>rate</th>\n",
       "      <th>areaWithType</th>\n",
       "      <th>bedRoom</th>\n",
       "      <th>bathroom</th>\n",
       "      <th>balcony</th>\n",
       "      <th>additionalRoom</th>\n",
       "      <th>address</th>\n",
       "      <th>floorNum</th>\n",
       "      <th>facing</th>\n",
       "      <th>agePossession</th>\n",
       "      <th>nearbyLocations</th>\n",
       "      <th>description</th>\n",
       "      <th>furnishDetails</th>\n",
       "      <th>features</th>\n",
       "      <th>rating</th>\n",
       "      <th>property_id</th>\n",
       "    </tr>\n",
       "  </thead>\n",
       "  <tbody>\n",
       "    <tr>\n",
       "      <th>0</th>\n",
       "      <td>2 BHK Flat in Krishna Colony</td>\n",
       "      <td>https://www.99acres.com/2-bhk-bedroom-apartmen...</td>\n",
       "      <td>maa bhagwati residency</td>\n",
       "      <td>45 Lac</td>\n",
       "      <td>₹ 5,000/sq.ft.</td>\n",
       "      <td>Carpet area: 900 (83.61 sq.m.)</td>\n",
       "      <td>2 Bedrooms</td>\n",
       "      <td>2 Bathrooms</td>\n",
       "      <td>1 Balcony</td>\n",
       "      <td>NaN</td>\n",
       "      <td>Krishna Colony, Gurgaon, Haryana</td>\n",
       "      <td>4th   of 4 Floors</td>\n",
       "      <td>West</td>\n",
       "      <td>1 to 5 Year Old</td>\n",
       "      <td>['Chintapurni Mandir', 'State bank ATM', 'Pear...</td>\n",
       "      <td>So with lift.Maa bhagwati residency is one of ...</td>\n",
       "      <td>['3 Fan', '4 Light', '1 Wardrobe', 'No AC', 'N...</td>\n",
       "      <td>['Feng Shui / Vaastu Compliant', 'Security / F...</td>\n",
       "      <td>['Environment4 out of 5', 'Safety4 out of 5', ...</td>\n",
       "      <td>C68850746</td>\n",
       "    </tr>\n",
       "    <tr>\n",
       "      <th>1</th>\n",
       "      <td>2 BHK Flat in Ashok Vihar</td>\n",
       "      <td>https://www.99acres.com/2-bhk-bedroom-apartmen...</td>\n",
       "      <td>Apna Enclave</td>\n",
       "      <td>50 Lac</td>\n",
       "      <td>₹ 7,692/sq.ft.</td>\n",
       "      <td>Carpet area: 650 (60.39 sq.m.)</td>\n",
       "      <td>2 Bedrooms</td>\n",
       "      <td>2 Bathrooms</td>\n",
       "      <td>1 Balcony</td>\n",
       "      <td>NaN</td>\n",
       "      <td>46b, Ashok Vihar, Gurgaon, Haryana</td>\n",
       "      <td>1st   of 3 Floors</td>\n",
       "      <td>West</td>\n",
       "      <td>10+ Year Old</td>\n",
       "      <td>['Chintapurni Mandir', 'Sheetla Mata Mandir', ...</td>\n",
       "      <td>Property situated on main road, railway statio...</td>\n",
       "      <td>['3 Wardrobe', '4 Fan', '1 Exhaust Fan', '1 Ge...</td>\n",
       "      <td>['Security / Fire Alarm', 'Maintenance Staff',...</td>\n",
       "      <td>['Environment4 out of 5', 'Safety4 out of 5', ...</td>\n",
       "      <td>H68850564</td>\n",
       "    </tr>\n",
       "    <tr>\n",
       "      <th>2</th>\n",
       "      <td>2 BHK Flat in Sohna</td>\n",
       "      <td>https://www.99acres.com/2-bhk-bedroom-apartmen...</td>\n",
       "      <td>Tulsiani Easy in Homes</td>\n",
       "      <td>40 Lac</td>\n",
       "      <td>₹ 6,722/sq.ft.</td>\n",
       "      <td>Carpet area: 595 (55.28 sq.m.)</td>\n",
       "      <td>2 Bedrooms</td>\n",
       "      <td>2 Bathrooms</td>\n",
       "      <td>3 Balconies</td>\n",
       "      <td>NaN</td>\n",
       "      <td>Sohna, Gurgaon, Haryana</td>\n",
       "      <td>12nd   of 14 Floors</td>\n",
       "      <td>NaN</td>\n",
       "      <td>0 to 1 Year Old</td>\n",
       "      <td>['Huda City Metro', 'Golf Course extn road', '...</td>\n",
       "      <td>This property is 15 km away from badshapur, gu...</td>\n",
       "      <td>NaN</td>\n",
       "      <td>['Power Back-up', 'Feng Shui / Vaastu Complian...</td>\n",
       "      <td>['Environment4 out of 5', 'Safety4 out of 5', ...</td>\n",
       "      <td>J68850120</td>\n",
       "    </tr>\n",
       "    <tr>\n",
       "      <th>3</th>\n",
       "      <td>2 BHK Flat in Sector 61 Gurgaon</td>\n",
       "      <td>https://www.99acres.com/2-bhk-bedroom-apartmen...</td>\n",
       "      <td>Smart World Orchard</td>\n",
       "      <td>1.47 Crore</td>\n",
       "      <td>₹ 12,250/sq.ft.</td>\n",
       "      <td>Carpet area: 1200 (111.48 sq.m.)</td>\n",
       "      <td>2 Bedrooms</td>\n",
       "      <td>2 Bathrooms</td>\n",
       "      <td>2 Balconies</td>\n",
       "      <td>Study Room</td>\n",
       "      <td>Sector 61 Gurgaon, Gurgaon, Haryana</td>\n",
       "      <td>2nd   of 4 Floors</td>\n",
       "      <td>NaN</td>\n",
       "      <td>Dec-23</td>\n",
       "      <td>['Sector 55-56 Metro station', 'Bestech Centra...</td>\n",
       "      <td>Near to metro station of sector 56 and opposit...</td>\n",
       "      <td>NaN</td>\n",
       "      <td>['Security / Fire Alarm', 'Private Garden / Te...</td>\n",
       "      <td>NaN</td>\n",
       "      <td>S68849476</td>\n",
       "    </tr>\n",
       "    <tr>\n",
       "      <th>4</th>\n",
       "      <td>2 BHK Flat in Sector 92 Gurgaon</td>\n",
       "      <td>https://www.99acres.com/2-bhk-bedroom-apartmen...</td>\n",
       "      <td>Parkwood Westend</td>\n",
       "      <td>70 Lac</td>\n",
       "      <td>₹ 5,204/sq.ft.</td>\n",
       "      <td>Super Built up area 1345(124.95 sq.m.)</td>\n",
       "      <td>2 Bedrooms</td>\n",
       "      <td>2 Bathrooms</td>\n",
       "      <td>3 Balconies</td>\n",
       "      <td>Study Room</td>\n",
       "      <td>Sector 92 Gurgaon, Gurgaon, Haryana</td>\n",
       "      <td>5th   of 8 Floors</td>\n",
       "      <td>NaN</td>\n",
       "      <td>Under Construction</td>\n",
       "      <td>['Yadav Clinic', 'Bangali Clinic', 'Dr. J. S. ...</td>\n",
       "      <td>We are the proud owners of this 2 bhk alongwit...</td>\n",
       "      <td>[]</td>\n",
       "      <td>NaN</td>\n",
       "      <td>['Environment5 out of 5', 'Safety3 out of 5', ...</td>\n",
       "      <td>L47956793</td>\n",
       "    </tr>\n",
       "  </tbody>\n",
       "</table>\n",
       "</div>"
      ],
      "text/plain": [
       "                     property_name  \\\n",
       "0     2 BHK Flat in Krishna Colony   \n",
       "1        2 BHK Flat in Ashok Vihar   \n",
       "2              2 BHK Flat in Sohna   \n",
       "3  2 BHK Flat in Sector 61 Gurgaon   \n",
       "4  2 BHK Flat in Sector 92 Gurgaon   \n",
       "\n",
       "                                                link                 society  \\\n",
       "0  https://www.99acres.com/2-bhk-bedroom-apartmen...  maa bhagwati residency   \n",
       "1  https://www.99acres.com/2-bhk-bedroom-apartmen...            Apna Enclave   \n",
       "2  https://www.99acres.com/2-bhk-bedroom-apartmen...  Tulsiani Easy in Homes   \n",
       "3  https://www.99acres.com/2-bhk-bedroom-apartmen...     Smart World Orchard   \n",
       "4  https://www.99acres.com/2-bhk-bedroom-apartmen...        Parkwood Westend   \n",
       "\n",
       "        price             rate                            areaWithType  \\\n",
       "0      45 Lac   ₹ 5,000/sq.ft.          Carpet area: 900 (83.61 sq.m.)   \n",
       "1      50 Lac   ₹ 7,692/sq.ft.          Carpet area: 650 (60.39 sq.m.)   \n",
       "2      40 Lac   ₹ 6,722/sq.ft.          Carpet area: 595 (55.28 sq.m.)   \n",
       "3  1.47 Crore  ₹ 12,250/sq.ft.        Carpet area: 1200 (111.48 sq.m.)   \n",
       "4      70 Lac   ₹ 5,204/sq.ft.  Super Built up area 1345(124.95 sq.m.)   \n",
       "\n",
       "      bedRoom     bathroom      balcony additionalRoom  \\\n",
       "0  2 Bedrooms  2 Bathrooms    1 Balcony            NaN   \n",
       "1  2 Bedrooms  2 Bathrooms    1 Balcony            NaN   \n",
       "2  2 Bedrooms  2 Bathrooms  3 Balconies            NaN   \n",
       "3  2 Bedrooms  2 Bathrooms  2 Balconies     Study Room   \n",
       "4  2 Bedrooms  2 Bathrooms  3 Balconies     Study Room   \n",
       "\n",
       "                               address             floorNum facing  \\\n",
       "0     Krishna Colony, Gurgaon, Haryana    4th   of 4 Floors   West   \n",
       "1   46b, Ashok Vihar, Gurgaon, Haryana    1st   of 3 Floors   West   \n",
       "2              Sohna, Gurgaon, Haryana  12nd   of 14 Floors    NaN   \n",
       "3  Sector 61 Gurgaon, Gurgaon, Haryana    2nd   of 4 Floors    NaN   \n",
       "4  Sector 92 Gurgaon, Gurgaon, Haryana    5th   of 8 Floors    NaN   \n",
       "\n",
       "        agePossession                                    nearbyLocations  \\\n",
       "0     1 to 5 Year Old  ['Chintapurni Mandir', 'State bank ATM', 'Pear...   \n",
       "1        10+ Year Old  ['Chintapurni Mandir', 'Sheetla Mata Mandir', ...   \n",
       "2     0 to 1 Year Old  ['Huda City Metro', 'Golf Course extn road', '...   \n",
       "3              Dec-23  ['Sector 55-56 Metro station', 'Bestech Centra...   \n",
       "4  Under Construction  ['Yadav Clinic', 'Bangali Clinic', 'Dr. J. S. ...   \n",
       "\n",
       "                                         description  \\\n",
       "0  So with lift.Maa bhagwati residency is one of ...   \n",
       "1  Property situated on main road, railway statio...   \n",
       "2  This property is 15 km away from badshapur, gu...   \n",
       "3  Near to metro station of sector 56 and opposit...   \n",
       "4  We are the proud owners of this 2 bhk alongwit...   \n",
       "\n",
       "                                      furnishDetails  \\\n",
       "0  ['3 Fan', '4 Light', '1 Wardrobe', 'No AC', 'N...   \n",
       "1  ['3 Wardrobe', '4 Fan', '1 Exhaust Fan', '1 Ge...   \n",
       "2                                                NaN   \n",
       "3                                                NaN   \n",
       "4                                                 []   \n",
       "\n",
       "                                            features  \\\n",
       "0  ['Feng Shui / Vaastu Compliant', 'Security / F...   \n",
       "1  ['Security / Fire Alarm', 'Maintenance Staff',...   \n",
       "2  ['Power Back-up', 'Feng Shui / Vaastu Complian...   \n",
       "3  ['Security / Fire Alarm', 'Private Garden / Te...   \n",
       "4                                                NaN   \n",
       "\n",
       "                                              rating property_id  \n",
       "0  ['Environment4 out of 5', 'Safety4 out of 5', ...   C68850746  \n",
       "1  ['Environment4 out of 5', 'Safety4 out of 5', ...   H68850564  \n",
       "2  ['Environment4 out of 5', 'Safety4 out of 5', ...   J68850120  \n",
       "3                                                NaN   S68849476  \n",
       "4  ['Environment5 out of 5', 'Safety3 out of 5', ...   L47956793  "
      ]
     },
     "execution_count": 3,
     "metadata": {},
     "output_type": "execute_result"
    }
   ],
   "source": [
    "df.head()"
   ]
  },
  {
   "cell_type": "code",
   "execution_count": 4,
   "id": "539d1e35",
   "metadata": {
    "execution": {
     "iopub.execute_input": "2024-01-14T17:18:01.918583Z",
     "iopub.status.busy": "2024-01-14T17:18:01.917783Z",
     "iopub.status.idle": "2024-01-14T17:18:01.938922Z",
     "shell.execute_reply": "2024-01-14T17:18:01.937771Z"
    },
    "papermill": {
     "duration": 0.035758,
     "end_time": "2024-01-14T17:18:01.941316",
     "exception": false,
     "start_time": "2024-01-14T17:18:01.905558",
     "status": "completed"
    },
    "tags": []
   },
   "outputs": [
    {
     "data": {
      "text/html": [
       "<div>\n",
       "<style scoped>\n",
       "    .dataframe tbody tr th:only-of-type {\n",
       "        vertical-align: middle;\n",
       "    }\n",
       "\n",
       "    .dataframe tbody tr th {\n",
       "        vertical-align: top;\n",
       "    }\n",
       "\n",
       "    .dataframe thead th {\n",
       "        text-align: right;\n",
       "    }\n",
       "</style>\n",
       "<table border=\"1\" class=\"dataframe\">\n",
       "  <thead>\n",
       "    <tr style=\"text-align: right;\">\n",
       "      <th></th>\n",
       "      <th>property_name</th>\n",
       "      <th>link</th>\n",
       "      <th>society</th>\n",
       "      <th>price</th>\n",
       "      <th>rate</th>\n",
       "      <th>areaWithType</th>\n",
       "      <th>bedRoom</th>\n",
       "      <th>bathroom</th>\n",
       "      <th>balcony</th>\n",
       "      <th>additionalRoom</th>\n",
       "      <th>address</th>\n",
       "      <th>floorNum</th>\n",
       "      <th>facing</th>\n",
       "      <th>agePossession</th>\n",
       "      <th>nearbyLocations</th>\n",
       "      <th>description</th>\n",
       "      <th>furnishDetails</th>\n",
       "      <th>features</th>\n",
       "      <th>rating</th>\n",
       "      <th>property_id</th>\n",
       "    </tr>\n",
       "  </thead>\n",
       "  <tbody>\n",
       "    <tr>\n",
       "      <th>3012</th>\n",
       "      <td>3 BHK Flat in Sector 86 Gurgaon</td>\n",
       "      <td>https://www.99acres.com/3-bhk-bedroom-apartmen...</td>\n",
       "      <td>Ansal Heights 86</td>\n",
       "      <td>1.05 Crore</td>\n",
       "      <td>₹ 5,541/sq.ft.</td>\n",
       "      <td>Super Built up area 1895(176.05 sq.m.)</td>\n",
       "      <td>3 Bedrooms</td>\n",
       "      <td>3 Bathrooms</td>\n",
       "      <td>3 Balconies</td>\n",
       "      <td>Servant Room</td>\n",
       "      <td>Tower C, Sector 86 Gurgaon, Gurgaon, Haryana</td>\n",
       "      <td>9th   of 13 Floors</td>\n",
       "      <td>North-East</td>\n",
       "      <td>Under Construction</td>\n",
       "      <td>['IRIS Broadway Mall', 'Delhi Jaipur Expresswa...</td>\n",
       "      <td>Residential apartment for sell.Located in sect...</td>\n",
       "      <td>[]</td>\n",
       "      <td>NaN</td>\n",
       "      <td>['Safety4.5 out of 5', 'Lifestyle5 out of 5', ...</td>\n",
       "      <td>D26586124</td>\n",
       "    </tr>\n",
       "    <tr>\n",
       "      <th>3013</th>\n",
       "      <td>5 BHK Flat in Sector 48 Gurgaon</td>\n",
       "      <td>https://www.99acres.com/5-bhk-bedroom-apartmen...</td>\n",
       "      <td>Parsvnath Green Ville3.9 ★</td>\n",
       "      <td>3.3 Crore</td>\n",
       "      <td>₹ 9,984/sq.ft.</td>\n",
       "      <td>Super Built up area 3905(362.79 sq.m.)Built Up...</td>\n",
       "      <td>5 Bedrooms</td>\n",
       "      <td>5 Bathrooms</td>\n",
       "      <td>3+ Balconies</td>\n",
       "      <td>Servant Room</td>\n",
       "      <td>Sector 48 Gurgaon, Gurgaon, Haryana</td>\n",
       "      <td>4th   of 5 Floors</td>\n",
       "      <td>NaN</td>\n",
       "      <td>10+ Year Old</td>\n",
       "      <td>['Sri Radhe Krishna Temple', 'Icici bank ATM',...</td>\n",
       "      <td>5 bhk duplex penthouse in low rise building.Av...</td>\n",
       "      <td>NaN</td>\n",
       "      <td>['Security / Fire Alarm', 'Private Garden / Te...</td>\n",
       "      <td>['Management4 out of 5', 'Green Area4 out of 5...</td>\n",
       "      <td>J17123294</td>\n",
       "    </tr>\n",
       "    <tr>\n",
       "      <th>3014</th>\n",
       "      <td>3 BHK Flat in Sector 108 Gurgaon</td>\n",
       "      <td>https://www.99acres.com/3-bhk-bedroom-apartmen...</td>\n",
       "      <td>Raheja Vedaanta3.6 ★</td>\n",
       "      <td>95 Lac</td>\n",
       "      <td>₹ 5,214/sq.ft.</td>\n",
       "      <td>Super Built up area 1822(169.27 sq.m.)</td>\n",
       "      <td>3 Bedrooms</td>\n",
       "      <td>3 Bathrooms</td>\n",
       "      <td>3 Balconies</td>\n",
       "      <td>Others</td>\n",
       "      <td>Sector 108 Gurgaon, Gurgaon, Haryana</td>\n",
       "      <td>3rd   of 22 Floors</td>\n",
       "      <td>NaN</td>\n",
       "      <td>1 to 5 Year Old</td>\n",
       "      <td>NaN</td>\n",
       "      <td>3 bedroom flat with full woodwork. Ready to mo...</td>\n",
       "      <td>[]</td>\n",
       "      <td>['Security / Fire Alarm', 'Feng Shui / Vaastu ...</td>\n",
       "      <td>['Management3 out of 5', 'Green Area4 out of 5...</td>\n",
       "      <td>A41215323</td>\n",
       "    </tr>\n",
       "    <tr>\n",
       "      <th>3015</th>\n",
       "      <td>3 BHK Flat in DLF Phase 3</td>\n",
       "      <td>https://www.99acres.com/3-bhk-bedroom-apartmen...</td>\n",
       "      <td>Ambience Lagoon3.9 ★</td>\n",
       "      <td>5.8 Crore</td>\n",
       "      <td>₹ 12,500/sq.ft.</td>\n",
       "      <td>Built Up area: 3700 (343.74 sq.m.)</td>\n",
       "      <td>3 Bedrooms</td>\n",
       "      <td>4 Bathrooms</td>\n",
       "      <td>3+ Balconies</td>\n",
       "      <td>Pooja Room,Study Room,Servant Room,Others</td>\n",
       "      <td>Gurgaon, DLF Phase 3, Gurgaon, Haryana</td>\n",
       "      <td>9th   of 9 Floors</td>\n",
       "      <td>North-East</td>\n",
       "      <td>10+ Year Old</td>\n",
       "      <td>['Micromax moulsari avenue metro station', 'In...</td>\n",
       "      <td>Luxury condominium complex located on delhi gu...</td>\n",
       "      <td>['1 Water Purifier', '10 Fan', '1 Fridge', '1 ...</td>\n",
       "      <td>['Security / Fire Alarm', 'Private Garden / Te...</td>\n",
       "      <td>['Management5 out of 5', 'Green Area5 out of 5...</td>\n",
       "      <td>J18888617</td>\n",
       "    </tr>\n",
       "    <tr>\n",
       "      <th>3016</th>\n",
       "      <td>4 BHK Flat in Sector 54 Gurgaon</td>\n",
       "      <td>https://www.99acres.com/4-bhk-bedroom-apartmen...</td>\n",
       "      <td>DLF The Crest3.6 ★</td>\n",
       "      <td>11 Crore</td>\n",
       "      <td>₹ 35,222/sq.ft.</td>\n",
       "      <td>Super Built up area 3123(290.14 sq.m.)</td>\n",
       "      <td>4 Bedrooms</td>\n",
       "      <td>6 Bathrooms</td>\n",
       "      <td>3 Balconies</td>\n",
       "      <td>Servant Room</td>\n",
       "      <td>Sector 54 Gurgaon, Gurgaon, Haryana</td>\n",
       "      <td>7th   of 36 Floors</td>\n",
       "      <td>NaN</td>\n",
       "      <td>1 to 5 Year Old</td>\n",
       "      <td>['Sector 53-54 Metro Station', 'Ardee Mall', '...</td>\n",
       "      <td>Club &amp; pool facing\\nVrv air conditioning</td>\n",
       "      <td>['6 Fan', '1 Fridge', '1 Exhaust Fan', '5 Geys...</td>\n",
       "      <td>['Security / Fire Alarm', 'Power Back-up', 'In...</td>\n",
       "      <td>['Management4 out of 5', 'Green Area4 out of 5...</td>\n",
       "      <td>V70296402</td>\n",
       "    </tr>\n",
       "  </tbody>\n",
       "</table>\n",
       "</div>"
      ],
      "text/plain": [
       "                         property_name  \\\n",
       "3012   3 BHK Flat in Sector 86 Gurgaon   \n",
       "3013   5 BHK Flat in Sector 48 Gurgaon   \n",
       "3014  3 BHK Flat in Sector 108 Gurgaon   \n",
       "3015         3 BHK Flat in DLF Phase 3   \n",
       "3016   4 BHK Flat in Sector 54 Gurgaon   \n",
       "\n",
       "                                                   link  \\\n",
       "3012  https://www.99acres.com/3-bhk-bedroom-apartmen...   \n",
       "3013  https://www.99acres.com/5-bhk-bedroom-apartmen...   \n",
       "3014  https://www.99acres.com/3-bhk-bedroom-apartmen...   \n",
       "3015  https://www.99acres.com/3-bhk-bedroom-apartmen...   \n",
       "3016  https://www.99acres.com/4-bhk-bedroom-apartmen...   \n",
       "\n",
       "                         society       price             rate  \\\n",
       "3012            Ansal Heights 86  1.05 Crore   ₹ 5,541/sq.ft.   \n",
       "3013  Parsvnath Green Ville3.9 ★   3.3 Crore   ₹ 9,984/sq.ft.   \n",
       "3014        Raheja Vedaanta3.6 ★      95 Lac   ₹ 5,214/sq.ft.   \n",
       "3015        Ambience Lagoon3.9 ★   5.8 Crore  ₹ 12,500/sq.ft.   \n",
       "3016          DLF The Crest3.6 ★    11 Crore  ₹ 35,222/sq.ft.   \n",
       "\n",
       "                                           areaWithType     bedRoom  \\\n",
       "3012             Super Built up area 1895(176.05 sq.m.)  3 Bedrooms   \n",
       "3013  Super Built up area 3905(362.79 sq.m.)Built Up...  5 Bedrooms   \n",
       "3014             Super Built up area 1822(169.27 sq.m.)  3 Bedrooms   \n",
       "3015                 Built Up area: 3700 (343.74 sq.m.)  3 Bedrooms   \n",
       "3016             Super Built up area 3123(290.14 sq.m.)  4 Bedrooms   \n",
       "\n",
       "         bathroom       balcony                             additionalRoom  \\\n",
       "3012  3 Bathrooms   3 Balconies                               Servant Room   \n",
       "3013  5 Bathrooms  3+ Balconies                               Servant Room   \n",
       "3014  3 Bathrooms   3 Balconies                                     Others   \n",
       "3015  4 Bathrooms  3+ Balconies  Pooja Room,Study Room,Servant Room,Others   \n",
       "3016  6 Bathrooms   3 Balconies                               Servant Room   \n",
       "\n",
       "                                           address            floorNum  \\\n",
       "3012  Tower C, Sector 86 Gurgaon, Gurgaon, Haryana  9th   of 13 Floors   \n",
       "3013           Sector 48 Gurgaon, Gurgaon, Haryana   4th   of 5 Floors   \n",
       "3014          Sector 108 Gurgaon, Gurgaon, Haryana  3rd   of 22 Floors   \n",
       "3015        Gurgaon, DLF Phase 3, Gurgaon, Haryana   9th   of 9 Floors   \n",
       "3016           Sector 54 Gurgaon, Gurgaon, Haryana  7th   of 36 Floors   \n",
       "\n",
       "          facing       agePossession  \\\n",
       "3012  North-East  Under Construction   \n",
       "3013         NaN        10+ Year Old   \n",
       "3014         NaN     1 to 5 Year Old   \n",
       "3015  North-East        10+ Year Old   \n",
       "3016         NaN     1 to 5 Year Old   \n",
       "\n",
       "                                        nearbyLocations  \\\n",
       "3012  ['IRIS Broadway Mall', 'Delhi Jaipur Expresswa...   \n",
       "3013  ['Sri Radhe Krishna Temple', 'Icici bank ATM',...   \n",
       "3014                                                NaN   \n",
       "3015  ['Micromax moulsari avenue metro station', 'In...   \n",
       "3016  ['Sector 53-54 Metro Station', 'Ardee Mall', '...   \n",
       "\n",
       "                                            description  \\\n",
       "3012  Residential apartment for sell.Located in sect...   \n",
       "3013  5 bhk duplex penthouse in low rise building.Av...   \n",
       "3014  3 bedroom flat with full woodwork. Ready to mo...   \n",
       "3015  Luxury condominium complex located on delhi gu...   \n",
       "3016           Club & pool facing\\nVrv air conditioning   \n",
       "\n",
       "                                         furnishDetails  \\\n",
       "3012                                                 []   \n",
       "3013                                                NaN   \n",
       "3014                                                 []   \n",
       "3015  ['1 Water Purifier', '10 Fan', '1 Fridge', '1 ...   \n",
       "3016  ['6 Fan', '1 Fridge', '1 Exhaust Fan', '5 Geys...   \n",
       "\n",
       "                                               features  \\\n",
       "3012                                                NaN   \n",
       "3013  ['Security / Fire Alarm', 'Private Garden / Te...   \n",
       "3014  ['Security / Fire Alarm', 'Feng Shui / Vaastu ...   \n",
       "3015  ['Security / Fire Alarm', 'Private Garden / Te...   \n",
       "3016  ['Security / Fire Alarm', 'Power Back-up', 'In...   \n",
       "\n",
       "                                                 rating property_id  \n",
       "3012  ['Safety4.5 out of 5', 'Lifestyle5 out of 5', ...   D26586124  \n",
       "3013  ['Management4 out of 5', 'Green Area4 out of 5...   J17123294  \n",
       "3014  ['Management3 out of 5', 'Green Area4 out of 5...   A41215323  \n",
       "3015  ['Management5 out of 5', 'Green Area5 out of 5...   J18888617  \n",
       "3016  ['Management4 out of 5', 'Green Area4 out of 5...   V70296402  "
      ]
     },
     "execution_count": 4,
     "metadata": {},
     "output_type": "execute_result"
    }
   ],
   "source": [
    "df.tail()"
   ]
  },
  {
   "cell_type": "code",
   "execution_count": 5,
   "id": "a5de5817",
   "metadata": {
    "execution": {
     "iopub.execute_input": "2024-01-14T17:18:01.966451Z",
     "iopub.status.busy": "2024-01-14T17:18:01.965814Z",
     "iopub.status.idle": "2024-01-14T17:18:01.996058Z",
     "shell.execute_reply": "2024-01-14T17:18:01.994965Z"
    },
    "papermill": {
     "duration": 0.045686,
     "end_time": "2024-01-14T17:18:01.998389",
     "exception": false,
     "start_time": "2024-01-14T17:18:01.952703",
     "status": "completed"
    },
    "tags": []
   },
   "outputs": [
    {
     "name": "stdout",
     "output_type": "stream",
     "text": [
      "<class 'pandas.core.frame.DataFrame'>\n",
      "RangeIndex: 3017 entries, 0 to 3016\n",
      "Data columns (total 20 columns):\n",
      " #   Column           Non-Null Count  Dtype \n",
      "---  ------           --------------  ----- \n",
      " 0   property_name    3017 non-null   object\n",
      " 1   link             3017 non-null   object\n",
      " 2   society          3016 non-null   object\n",
      " 3   price            3007 non-null   object\n",
      " 4   rate             3004 non-null   object\n",
      " 5   areaWithType     3008 non-null   object\n",
      " 6   bedRoom          3008 non-null   object\n",
      " 7   bathroom         3008 non-null   object\n",
      " 8   balcony          3008 non-null   object\n",
      " 9   additionalRoom   1694 non-null   object\n",
      " 10  address          3002 non-null   object\n",
      " 11  floorNum         3006 non-null   object\n",
      " 12  facing           2127 non-null   object\n",
      " 13  agePossession    3007 non-null   object\n",
      " 14  nearbyLocations  2913 non-null   object\n",
      " 15  description      3008 non-null   object\n",
      " 16  furnishDetails   2203 non-null   object\n",
      " 17  features         2594 non-null   object\n",
      " 18  rating           2676 non-null   object\n",
      " 19  property_id      3008 non-null   object\n",
      "dtypes: object(20)\n",
      "memory usage: 471.5+ KB\n"
     ]
    }
   ],
   "source": [
    "df.info()"
   ]
  },
  {
   "cell_type": "code",
   "execution_count": 6,
   "id": "7e760470",
   "metadata": {
    "execution": {
     "iopub.execute_input": "2024-01-14T17:18:02.022887Z",
     "iopub.status.busy": "2024-01-14T17:18:02.022262Z",
     "iopub.status.idle": "2024-01-14T17:18:02.080987Z",
     "shell.execute_reply": "2024-01-14T17:18:02.079896Z"
    },
    "papermill": {
     "duration": 0.073755,
     "end_time": "2024-01-14T17:18:02.083107",
     "exception": false,
     "start_time": "2024-01-14T17:18:02.009352",
     "status": "completed"
    },
    "tags": []
   },
   "outputs": [
    {
     "data": {
      "text/html": [
       "<div>\n",
       "<style scoped>\n",
       "    .dataframe tbody tr th:only-of-type {\n",
       "        vertical-align: middle;\n",
       "    }\n",
       "\n",
       "    .dataframe tbody tr th {\n",
       "        vertical-align: top;\n",
       "    }\n",
       "\n",
       "    .dataframe thead th {\n",
       "        text-align: right;\n",
       "    }\n",
       "</style>\n",
       "<table border=\"1\" class=\"dataframe\">\n",
       "  <thead>\n",
       "    <tr style=\"text-align: right;\">\n",
       "      <th></th>\n",
       "      <th>property_name</th>\n",
       "      <th>link</th>\n",
       "      <th>society</th>\n",
       "      <th>price</th>\n",
       "      <th>rate</th>\n",
       "      <th>areaWithType</th>\n",
       "      <th>bedRoom</th>\n",
       "      <th>bathroom</th>\n",
       "      <th>balcony</th>\n",
       "      <th>additionalRoom</th>\n",
       "      <th>address</th>\n",
       "      <th>floorNum</th>\n",
       "      <th>facing</th>\n",
       "      <th>agePossession</th>\n",
       "      <th>nearbyLocations</th>\n",
       "      <th>description</th>\n",
       "      <th>furnishDetails</th>\n",
       "      <th>features</th>\n",
       "      <th>rating</th>\n",
       "      <th>property_id</th>\n",
       "    </tr>\n",
       "  </thead>\n",
       "  <tbody>\n",
       "    <tr>\n",
       "      <th>count</th>\n",
       "      <td>3017</td>\n",
       "      <td>3017</td>\n",
       "      <td>3016</td>\n",
       "      <td>3007</td>\n",
       "      <td>3004</td>\n",
       "      <td>3008</td>\n",
       "      <td>3008</td>\n",
       "      <td>3008</td>\n",
       "      <td>3008</td>\n",
       "      <td>1694</td>\n",
       "      <td>3002</td>\n",
       "      <td>3006</td>\n",
       "      <td>2127</td>\n",
       "      <td>3007</td>\n",
       "      <td>2913</td>\n",
       "      <td>3008</td>\n",
       "      <td>2203</td>\n",
       "      <td>2594</td>\n",
       "      <td>2676</td>\n",
       "      <td>3008</td>\n",
       "    </tr>\n",
       "    <tr>\n",
       "      <th>unique</th>\n",
       "      <td>404</td>\n",
       "      <td>2880</td>\n",
       "      <td>638</td>\n",
       "      <td>439</td>\n",
       "      <td>2130</td>\n",
       "      <td>1932</td>\n",
       "      <td>6</td>\n",
       "      <td>7</td>\n",
       "      <td>5</td>\n",
       "      <td>49</td>\n",
       "      <td>1287</td>\n",
       "      <td>550</td>\n",
       "      <td>8</td>\n",
       "      <td>48</td>\n",
       "      <td>599</td>\n",
       "      <td>2787</td>\n",
       "      <td>1367</td>\n",
       "      <td>1438</td>\n",
       "      <td>341</td>\n",
       "      <td>2874</td>\n",
       "    </tr>\n",
       "    <tr>\n",
       "      <th>top</th>\n",
       "      <td>2 BHK Flat in Sohna</td>\n",
       "      <td>https://www.99acres.com/2-bhk-bedroom-apartmen...</td>\n",
       "      <td>SS The Leaf3.8 ★</td>\n",
       "      <td>1.25 Crore</td>\n",
       "      <td>₹ 10,000/sq.ft.</td>\n",
       "      <td>Super Built up area 1578(146.6 sq.m.)</td>\n",
       "      <td>3 Bedrooms</td>\n",
       "      <td>2 Bathrooms</td>\n",
       "      <td>3 Balconies</td>\n",
       "      <td>Servant Room</td>\n",
       "      <td>Sohna, Gurgaon, Haryana</td>\n",
       "      <td>2nd   of 4 Floors</td>\n",
       "      <td>North-East</td>\n",
       "      <td>1 to 5 Year Old</td>\n",
       "      <td>['Airia Mall Sector 68', 'Southern Peripheral ...</td>\n",
       "      <td>Best in class property available at sohna loca...</td>\n",
       "      <td>[]</td>\n",
       "      <td>['Feng Shui / Vaastu Compliant', 'Security / F...</td>\n",
       "      <td>['Green Area5 out of 5', 'Construction4 out of...</td>\n",
       "      <td>I69037888</td>\n",
       "    </tr>\n",
       "    <tr>\n",
       "      <th>freq</th>\n",
       "      <td>126</td>\n",
       "      <td>2</td>\n",
       "      <td>73</td>\n",
       "      <td>79</td>\n",
       "      <td>19</td>\n",
       "      <td>17</td>\n",
       "      <td>1439</td>\n",
       "      <td>1047</td>\n",
       "      <td>977</td>\n",
       "      <td>630</td>\n",
       "      <td>77</td>\n",
       "      <td>74</td>\n",
       "      <td>506</td>\n",
       "      <td>1479</td>\n",
       "      <td>73</td>\n",
       "      <td>7</td>\n",
       "      <td>367</td>\n",
       "      <td>290</td>\n",
       "      <td>128</td>\n",
       "      <td>2</td>\n",
       "    </tr>\n",
       "  </tbody>\n",
       "</table>\n",
       "</div>"
      ],
      "text/plain": [
       "              property_name  \\\n",
       "count                  3017   \n",
       "unique                  404   \n",
       "top     2 BHK Flat in Sohna   \n",
       "freq                    126   \n",
       "\n",
       "                                                     link           society  \\\n",
       "count                                                3017              3016   \n",
       "unique                                               2880               638   \n",
       "top     https://www.99acres.com/2-bhk-bedroom-apartmen...  SS The Leaf3.8 ★   \n",
       "freq                                                    2                73   \n",
       "\n",
       "             price             rate                           areaWithType  \\\n",
       "count         3007             3004                                   3008   \n",
       "unique         439             2130                                   1932   \n",
       "top     1.25 Crore  ₹ 10,000/sq.ft.  Super Built up area 1578(146.6 sq.m.)   \n",
       "freq            79               19                                     17   \n",
       "\n",
       "           bedRoom     bathroom      balcony additionalRoom  \\\n",
       "count         3008         3008         3008           1694   \n",
       "unique           6            7            5             49   \n",
       "top     3 Bedrooms  2 Bathrooms  3 Balconies   Servant Room   \n",
       "freq          1439         1047          977            630   \n",
       "\n",
       "                        address           floorNum      facing  \\\n",
       "count                      3002               3006        2127   \n",
       "unique                     1287                550           8   \n",
       "top     Sohna, Gurgaon, Haryana  2nd   of 4 Floors  North-East   \n",
       "freq                         77                 74         506   \n",
       "\n",
       "          agePossession                                    nearbyLocations  \\\n",
       "count              3007                                               2913   \n",
       "unique               48                                                599   \n",
       "top     1 to 5 Year Old  ['Airia Mall Sector 68', 'Southern Peripheral ...   \n",
       "freq               1479                                                 73   \n",
       "\n",
       "                                              description furnishDetails  \\\n",
       "count                                                3008           2203   \n",
       "unique                                               2787           1367   \n",
       "top     Best in class property available at sohna loca...             []   \n",
       "freq                                                    7            367   \n",
       "\n",
       "                                                 features  \\\n",
       "count                                                2594   \n",
       "unique                                               1438   \n",
       "top     ['Feng Shui / Vaastu Compliant', 'Security / F...   \n",
       "freq                                                  290   \n",
       "\n",
       "                                                   rating property_id  \n",
       "count                                                2676        3008  \n",
       "unique                                                341        2874  \n",
       "top     ['Green Area5 out of 5', 'Construction4 out of...   I69037888  \n",
       "freq                                                  128           2  "
      ]
     },
     "execution_count": 6,
     "metadata": {},
     "output_type": "execute_result"
    }
   ],
   "source": [
    "df.describe()"
   ]
  },
  {
   "cell_type": "code",
   "execution_count": 7,
   "id": "a259417e",
   "metadata": {
    "execution": {
     "iopub.execute_input": "2024-01-14T17:18:02.108304Z",
     "iopub.status.busy": "2024-01-14T17:18:02.107663Z",
     "iopub.status.idle": "2024-01-14T17:18:02.119369Z",
     "shell.execute_reply": "2024-01-14T17:18:02.118271Z"
    },
    "papermill": {
     "duration": 0.027354,
     "end_time": "2024-01-14T17:18:02.121706",
     "exception": false,
     "start_time": "2024-01-14T17:18:02.094352",
     "status": "completed"
    },
    "tags": []
   },
   "outputs": [
    {
     "data": {
      "text/plain": [
       "property_name         0\n",
       "link                  0\n",
       "society               1\n",
       "price                10\n",
       "rate                 13\n",
       "areaWithType          9\n",
       "bedRoom               9\n",
       "bathroom              9\n",
       "balcony               9\n",
       "additionalRoom     1323\n",
       "address              15\n",
       "floorNum             11\n",
       "facing              890\n",
       "agePossession        10\n",
       "nearbyLocations     104\n",
       "description           9\n",
       "furnishDetails      814\n",
       "features            423\n",
       "rating              341\n",
       "property_id           9\n",
       "dtype: int64"
      ]
     },
     "execution_count": 7,
     "metadata": {},
     "output_type": "execute_result"
    }
   ],
   "source": [
    "df.isnull().sum()"
   ]
  },
  {
   "cell_type": "code",
   "execution_count": 8,
   "id": "59b9a102",
   "metadata": {
    "execution": {
     "iopub.execute_input": "2024-01-14T17:18:02.146974Z",
     "iopub.status.busy": "2024-01-14T17:18:02.145861Z",
     "iopub.status.idle": "2024-01-14T17:18:02.152931Z",
     "shell.execute_reply": "2024-01-14T17:18:02.152122Z"
    },
    "papermill": {
     "duration": 0.021759,
     "end_time": "2024-01-14T17:18:02.154964",
     "exception": false,
     "start_time": "2024-01-14T17:18:02.133205",
     "status": "completed"
    },
    "tags": []
   },
   "outputs": [
    {
     "data": {
      "text/plain": [
       "(3017, 20)"
      ]
     },
     "execution_count": 8,
     "metadata": {},
     "output_type": "execute_result"
    }
   ],
   "source": [
    "df.shape"
   ]
  },
  {
   "cell_type": "markdown",
   "id": "47e8abf3",
   "metadata": {
    "papermill": {
     "duration": 0.01167,
     "end_time": "2024-01-14T17:18:02.178653",
     "exception": false,
     "start_time": "2024-01-14T17:18:02.166983",
     "status": "completed"
    },
    "tags": []
   },
   "source": [
    "# **Data Preprocessing**"
   ]
  },
  {
   "cell_type": "code",
   "execution_count": 9,
   "id": "023f6371",
   "metadata": {
    "execution": {
     "iopub.execute_input": "2024-01-14T17:18:02.204788Z",
     "iopub.status.busy": "2024-01-14T17:18:02.203993Z",
     "iopub.status.idle": "2024-01-14T17:18:02.216101Z",
     "shell.execute_reply": "2024-01-14T17:18:02.214891Z"
    },
    "papermill": {
     "duration": 0.028077,
     "end_time": "2024-01-14T17:18:02.218770",
     "exception": false,
     "start_time": "2024-01-14T17:18:02.190693",
     "status": "completed"
    },
    "tags": []
   },
   "outputs": [],
   "source": [
    "# droping null values with respect in columns: bedRoom, bathroom, balcony, society, price\n",
    "df.dropna(subset = ['bedRoom', 'bathroom','balcony','society','price'], inplace=True)"
   ]
  },
  {
   "cell_type": "code",
   "execution_count": 10,
   "id": "40f31421",
   "metadata": {
    "execution": {
     "iopub.execute_input": "2024-01-14T17:18:02.305040Z",
     "iopub.status.busy": "2024-01-14T17:18:02.304623Z",
     "iopub.status.idle": "2024-01-14T17:18:02.321613Z",
     "shell.execute_reply": "2024-01-14T17:18:02.320529Z"
    },
    "papermill": {
     "duration": 0.0326,
     "end_time": "2024-01-14T17:18:02.324123",
     "exception": false,
     "start_time": "2024-01-14T17:18:02.291523",
     "status": "completed"
    },
    "tags": []
   },
   "outputs": [],
   "source": [
    "# replacing \"Price on Request\" with 0 to convert price column in numeric format\n",
    "df.loc[df['price']=='Price on Request','price'] = 0\n",
    "\n",
    "# splitting values of price column \n",
    "A = df.price.str.split(\" \",expand = True)\n",
    "\n",
    "# converting in numeric format\n",
    "A[0] = A[0].astype(float)\n",
    "\n",
    "# conerting crore in lacs\n",
    "A.loc[A[1]=='Crore',0] = A[0]*100\n",
    "\n",
    "# adding a new column:\"price in lacs\" in dataframe\n",
    "df['price in lacs'] = A[0]"
   ]
  },
  {
   "cell_type": "code",
   "execution_count": 11,
   "id": "56e51fe0",
   "metadata": {
    "execution": {
     "iopub.execute_input": "2024-01-14T17:18:02.350520Z",
     "iopub.status.busy": "2024-01-14T17:18:02.350060Z",
     "iopub.status.idle": "2024-01-14T17:18:02.374235Z",
     "shell.execute_reply": "2024-01-14T17:18:02.373244Z"
    },
    "papermill": {
     "duration": 0.040357,
     "end_time": "2024-01-14T17:18:02.376451",
     "exception": false,
     "start_time": "2024-01-14T17:18:02.336094",
     "status": "completed"
    },
    "tags": []
   },
   "outputs": [],
   "source": [
    "# replacing string to convert column: areWithType in numeric format\n",
    "df[\"areaWithType\"]=df[\"areaWithType\"].str.replace(\"Super Built up area\",\"Super Built up area:\")\n",
    "\n",
    "# splitting values of areaWithType column \n",
    "B = df.areaWithType.str.split(\":\",expand = True)\n",
    "\n",
    "# further splittiing\n",
    "C = B[1].str.split(\"(\",expand=True)\n",
    "\n",
    "C[0] = C[0].str.replace(\"Carpet area\",\"\")\n",
    "\n",
    "# converting in numeric format\n",
    "C[0] = C[0].astype(\"float\")\n",
    "\n",
    "# adding a new column: \"total are\" in dataframe\n",
    "df[\"total area\"] = C[0]"
   ]
  },
  {
   "cell_type": "code",
   "execution_count": 12,
   "id": "68f29d86",
   "metadata": {
    "execution": {
     "iopub.execute_input": "2024-01-14T17:18:02.402340Z",
     "iopub.status.busy": "2024-01-14T17:18:02.401491Z",
     "iopub.status.idle": "2024-01-14T17:18:02.434977Z",
     "shell.execute_reply": "2024-01-14T17:18:02.433911Z"
    },
    "papermill": {
     "duration": 0.049002,
     "end_time": "2024-01-14T17:18:02.437364",
     "exception": false,
     "start_time": "2024-01-14T17:18:02.388362",
     "status": "completed"
    },
    "tags": []
   },
   "outputs": [
    {
     "data": {
      "text/html": [
       "<div>\n",
       "<style scoped>\n",
       "    .dataframe tbody tr th:only-of-type {\n",
       "        vertical-align: middle;\n",
       "    }\n",
       "\n",
       "    .dataframe tbody tr th {\n",
       "        vertical-align: top;\n",
       "    }\n",
       "\n",
       "    .dataframe thead th {\n",
       "        text-align: right;\n",
       "    }\n",
       "</style>\n",
       "<table border=\"1\" class=\"dataframe\">\n",
       "  <thead>\n",
       "    <tr style=\"text-align: right;\">\n",
       "      <th></th>\n",
       "      <th>property_name</th>\n",
       "      <th>link</th>\n",
       "      <th>society</th>\n",
       "      <th>price</th>\n",
       "      <th>rate</th>\n",
       "      <th>areaWithType</th>\n",
       "      <th>bedRoom</th>\n",
       "      <th>bathroom</th>\n",
       "      <th>balcony</th>\n",
       "      <th>additionalRoom</th>\n",
       "      <th>...</th>\n",
       "      <th>facing</th>\n",
       "      <th>agePossession</th>\n",
       "      <th>nearbyLocations</th>\n",
       "      <th>description</th>\n",
       "      <th>furnishDetails</th>\n",
       "      <th>features</th>\n",
       "      <th>rating</th>\n",
       "      <th>property_id</th>\n",
       "      <th>price in lacs</th>\n",
       "      <th>total area</th>\n",
       "    </tr>\n",
       "  </thead>\n",
       "  <tbody>\n",
       "    <tr>\n",
       "      <th>0</th>\n",
       "      <td>2 BHK Flat in Krishna Colony</td>\n",
       "      <td>https://www.99acres.com/2-bhk-bedroom-apartmen...</td>\n",
       "      <td>maa bhagwati residency</td>\n",
       "      <td>45 Lac</td>\n",
       "      <td>₹ 5,000/sq.ft.</td>\n",
       "      <td>Carpet area: 900 (83.61 sq.m.)</td>\n",
       "      <td>2 Bedrooms</td>\n",
       "      <td>2 Bathrooms</td>\n",
       "      <td>1 Balcony</td>\n",
       "      <td>NaN</td>\n",
       "      <td>...</td>\n",
       "      <td>West</td>\n",
       "      <td>1 to 5 Year Old</td>\n",
       "      <td>['Chintapurni Mandir', 'State bank ATM', 'Pear...</td>\n",
       "      <td>So with lift.Maa bhagwati residency is one of ...</td>\n",
       "      <td>['3 Fan', '4 Light', '1 Wardrobe', 'No AC', 'N...</td>\n",
       "      <td>['Feng Shui / Vaastu Compliant', 'Security / F...</td>\n",
       "      <td>['Environment4 out of 5', 'Safety4 out of 5', ...</td>\n",
       "      <td>C68850746</td>\n",
       "      <td>45.0</td>\n",
       "      <td>900.0</td>\n",
       "    </tr>\n",
       "    <tr>\n",
       "      <th>1</th>\n",
       "      <td>2 BHK Flat in Ashok Vihar</td>\n",
       "      <td>https://www.99acres.com/2-bhk-bedroom-apartmen...</td>\n",
       "      <td>Apna Enclave</td>\n",
       "      <td>50 Lac</td>\n",
       "      <td>₹ 7,692/sq.ft.</td>\n",
       "      <td>Carpet area: 650 (60.39 sq.m.)</td>\n",
       "      <td>2 Bedrooms</td>\n",
       "      <td>2 Bathrooms</td>\n",
       "      <td>1 Balcony</td>\n",
       "      <td>NaN</td>\n",
       "      <td>...</td>\n",
       "      <td>West</td>\n",
       "      <td>10+ Year Old</td>\n",
       "      <td>['Chintapurni Mandir', 'Sheetla Mata Mandir', ...</td>\n",
       "      <td>Property situated on main road, railway statio...</td>\n",
       "      <td>['3 Wardrobe', '4 Fan', '1 Exhaust Fan', '1 Ge...</td>\n",
       "      <td>['Security / Fire Alarm', 'Maintenance Staff',...</td>\n",
       "      <td>['Environment4 out of 5', 'Safety4 out of 5', ...</td>\n",
       "      <td>H68850564</td>\n",
       "      <td>50.0</td>\n",
       "      <td>650.0</td>\n",
       "    </tr>\n",
       "    <tr>\n",
       "      <th>2</th>\n",
       "      <td>2 BHK Flat in Sohna</td>\n",
       "      <td>https://www.99acres.com/2-bhk-bedroom-apartmen...</td>\n",
       "      <td>Tulsiani Easy in Homes</td>\n",
       "      <td>40 Lac</td>\n",
       "      <td>₹ 6,722/sq.ft.</td>\n",
       "      <td>Carpet area: 595 (55.28 sq.m.)</td>\n",
       "      <td>2 Bedrooms</td>\n",
       "      <td>2 Bathrooms</td>\n",
       "      <td>3 Balconies</td>\n",
       "      <td>NaN</td>\n",
       "      <td>...</td>\n",
       "      <td>NaN</td>\n",
       "      <td>0 to 1 Year Old</td>\n",
       "      <td>['Huda City Metro', 'Golf Course extn road', '...</td>\n",
       "      <td>This property is 15 km away from badshapur, gu...</td>\n",
       "      <td>NaN</td>\n",
       "      <td>['Power Back-up', 'Feng Shui / Vaastu Complian...</td>\n",
       "      <td>['Environment4 out of 5', 'Safety4 out of 5', ...</td>\n",
       "      <td>J68850120</td>\n",
       "      <td>40.0</td>\n",
       "      <td>595.0</td>\n",
       "    </tr>\n",
       "    <tr>\n",
       "      <th>3</th>\n",
       "      <td>2 BHK Flat in Sector 61 Gurgaon</td>\n",
       "      <td>https://www.99acres.com/2-bhk-bedroom-apartmen...</td>\n",
       "      <td>Smart World Orchard</td>\n",
       "      <td>1.47 Crore</td>\n",
       "      <td>₹ 12,250/sq.ft.</td>\n",
       "      <td>Carpet area: 1200 (111.48 sq.m.)</td>\n",
       "      <td>2 Bedrooms</td>\n",
       "      <td>2 Bathrooms</td>\n",
       "      <td>2 Balconies</td>\n",
       "      <td>Study Room</td>\n",
       "      <td>...</td>\n",
       "      <td>NaN</td>\n",
       "      <td>Dec-23</td>\n",
       "      <td>['Sector 55-56 Metro station', 'Bestech Centra...</td>\n",
       "      <td>Near to metro station of sector 56 and opposit...</td>\n",
       "      <td>NaN</td>\n",
       "      <td>['Security / Fire Alarm', 'Private Garden / Te...</td>\n",
       "      <td>NaN</td>\n",
       "      <td>S68849476</td>\n",
       "      <td>147.0</td>\n",
       "      <td>1200.0</td>\n",
       "    </tr>\n",
       "    <tr>\n",
       "      <th>4</th>\n",
       "      <td>2 BHK Flat in Sector 92 Gurgaon</td>\n",
       "      <td>https://www.99acres.com/2-bhk-bedroom-apartmen...</td>\n",
       "      <td>Parkwood Westend</td>\n",
       "      <td>70 Lac</td>\n",
       "      <td>₹ 5,204/sq.ft.</td>\n",
       "      <td>Super Built up area: 1345(124.95 sq.m.)</td>\n",
       "      <td>2 Bedrooms</td>\n",
       "      <td>2 Bathrooms</td>\n",
       "      <td>3 Balconies</td>\n",
       "      <td>Study Room</td>\n",
       "      <td>...</td>\n",
       "      <td>NaN</td>\n",
       "      <td>Under Construction</td>\n",
       "      <td>['Yadav Clinic', 'Bangali Clinic', 'Dr. J. S. ...</td>\n",
       "      <td>We are the proud owners of this 2 bhk alongwit...</td>\n",
       "      <td>[]</td>\n",
       "      <td>NaN</td>\n",
       "      <td>['Environment5 out of 5', 'Safety3 out of 5', ...</td>\n",
       "      <td>L47956793</td>\n",
       "      <td>70.0</td>\n",
       "      <td>1345.0</td>\n",
       "    </tr>\n",
       "    <tr>\n",
       "      <th>...</th>\n",
       "      <td>...</td>\n",
       "      <td>...</td>\n",
       "      <td>...</td>\n",
       "      <td>...</td>\n",
       "      <td>...</td>\n",
       "      <td>...</td>\n",
       "      <td>...</td>\n",
       "      <td>...</td>\n",
       "      <td>...</td>\n",
       "      <td>...</td>\n",
       "      <td>...</td>\n",
       "      <td>...</td>\n",
       "      <td>...</td>\n",
       "      <td>...</td>\n",
       "      <td>...</td>\n",
       "      <td>...</td>\n",
       "      <td>...</td>\n",
       "      <td>...</td>\n",
       "      <td>...</td>\n",
       "      <td>...</td>\n",
       "      <td>...</td>\n",
       "    </tr>\n",
       "    <tr>\n",
       "      <th>3012</th>\n",
       "      <td>3 BHK Flat in Sector 86 Gurgaon</td>\n",
       "      <td>https://www.99acres.com/3-bhk-bedroom-apartmen...</td>\n",
       "      <td>Ansal Heights 86</td>\n",
       "      <td>1.05 Crore</td>\n",
       "      <td>₹ 5,541/sq.ft.</td>\n",
       "      <td>Super Built up area: 1895(176.05 sq.m.)</td>\n",
       "      <td>3 Bedrooms</td>\n",
       "      <td>3 Bathrooms</td>\n",
       "      <td>3 Balconies</td>\n",
       "      <td>Servant Room</td>\n",
       "      <td>...</td>\n",
       "      <td>North-East</td>\n",
       "      <td>Under Construction</td>\n",
       "      <td>['IRIS Broadway Mall', 'Delhi Jaipur Expresswa...</td>\n",
       "      <td>Residential apartment for sell.Located in sect...</td>\n",
       "      <td>[]</td>\n",
       "      <td>NaN</td>\n",
       "      <td>['Safety4.5 out of 5', 'Lifestyle5 out of 5', ...</td>\n",
       "      <td>D26586124</td>\n",
       "      <td>105.0</td>\n",
       "      <td>1895.0</td>\n",
       "    </tr>\n",
       "    <tr>\n",
       "      <th>3013</th>\n",
       "      <td>5 BHK Flat in Sector 48 Gurgaon</td>\n",
       "      <td>https://www.99acres.com/5-bhk-bedroom-apartmen...</td>\n",
       "      <td>Parsvnath Green Ville3.9 ★</td>\n",
       "      <td>3.3 Crore</td>\n",
       "      <td>₹ 9,984/sq.ft.</td>\n",
       "      <td>Super Built up area: 3905(362.79 sq.m.)Built U...</td>\n",
       "      <td>5 Bedrooms</td>\n",
       "      <td>5 Bathrooms</td>\n",
       "      <td>3+ Balconies</td>\n",
       "      <td>Servant Room</td>\n",
       "      <td>...</td>\n",
       "      <td>NaN</td>\n",
       "      <td>10+ Year Old</td>\n",
       "      <td>['Sri Radhe Krishna Temple', 'Icici bank ATM',...</td>\n",
       "      <td>5 bhk duplex penthouse in low rise building.Av...</td>\n",
       "      <td>NaN</td>\n",
       "      <td>['Security / Fire Alarm', 'Private Garden / Te...</td>\n",
       "      <td>['Management4 out of 5', 'Green Area4 out of 5...</td>\n",
       "      <td>J17123294</td>\n",
       "      <td>330.0</td>\n",
       "      <td>3905.0</td>\n",
       "    </tr>\n",
       "    <tr>\n",
       "      <th>3014</th>\n",
       "      <td>3 BHK Flat in Sector 108 Gurgaon</td>\n",
       "      <td>https://www.99acres.com/3-bhk-bedroom-apartmen...</td>\n",
       "      <td>Raheja Vedaanta3.6 ★</td>\n",
       "      <td>95 Lac</td>\n",
       "      <td>₹ 5,214/sq.ft.</td>\n",
       "      <td>Super Built up area: 1822(169.27 sq.m.)</td>\n",
       "      <td>3 Bedrooms</td>\n",
       "      <td>3 Bathrooms</td>\n",
       "      <td>3 Balconies</td>\n",
       "      <td>Others</td>\n",
       "      <td>...</td>\n",
       "      <td>NaN</td>\n",
       "      <td>1 to 5 Year Old</td>\n",
       "      <td>NaN</td>\n",
       "      <td>3 bedroom flat with full woodwork. Ready to mo...</td>\n",
       "      <td>[]</td>\n",
       "      <td>['Security / Fire Alarm', 'Feng Shui / Vaastu ...</td>\n",
       "      <td>['Management3 out of 5', 'Green Area4 out of 5...</td>\n",
       "      <td>A41215323</td>\n",
       "      <td>95.0</td>\n",
       "      <td>1822.0</td>\n",
       "    </tr>\n",
       "    <tr>\n",
       "      <th>3015</th>\n",
       "      <td>3 BHK Flat in DLF Phase 3</td>\n",
       "      <td>https://www.99acres.com/3-bhk-bedroom-apartmen...</td>\n",
       "      <td>Ambience Lagoon3.9 ★</td>\n",
       "      <td>5.8 Crore</td>\n",
       "      <td>₹ 12,500/sq.ft.</td>\n",
       "      <td>Built Up area: 3700 (343.74 sq.m.)</td>\n",
       "      <td>3 Bedrooms</td>\n",
       "      <td>4 Bathrooms</td>\n",
       "      <td>3+ Balconies</td>\n",
       "      <td>Pooja Room,Study Room,Servant Room,Others</td>\n",
       "      <td>...</td>\n",
       "      <td>North-East</td>\n",
       "      <td>10+ Year Old</td>\n",
       "      <td>['Micromax moulsari avenue metro station', 'In...</td>\n",
       "      <td>Luxury condominium complex located on delhi gu...</td>\n",
       "      <td>['1 Water Purifier', '10 Fan', '1 Fridge', '1 ...</td>\n",
       "      <td>['Security / Fire Alarm', 'Private Garden / Te...</td>\n",
       "      <td>['Management5 out of 5', 'Green Area5 out of 5...</td>\n",
       "      <td>J18888617</td>\n",
       "      <td>580.0</td>\n",
       "      <td>3700.0</td>\n",
       "    </tr>\n",
       "    <tr>\n",
       "      <th>3016</th>\n",
       "      <td>4 BHK Flat in Sector 54 Gurgaon</td>\n",
       "      <td>https://www.99acres.com/4-bhk-bedroom-apartmen...</td>\n",
       "      <td>DLF The Crest3.6 ★</td>\n",
       "      <td>11 Crore</td>\n",
       "      <td>₹ 35,222/sq.ft.</td>\n",
       "      <td>Super Built up area: 3123(290.14 sq.m.)</td>\n",
       "      <td>4 Bedrooms</td>\n",
       "      <td>6 Bathrooms</td>\n",
       "      <td>3 Balconies</td>\n",
       "      <td>Servant Room</td>\n",
       "      <td>...</td>\n",
       "      <td>NaN</td>\n",
       "      <td>1 to 5 Year Old</td>\n",
       "      <td>['Sector 53-54 Metro Station', 'Ardee Mall', '...</td>\n",
       "      <td>Club &amp; pool facing\\nVrv air conditioning</td>\n",
       "      <td>['6 Fan', '1 Fridge', '1 Exhaust Fan', '5 Geys...</td>\n",
       "      <td>['Security / Fire Alarm', 'Power Back-up', 'In...</td>\n",
       "      <td>['Management4 out of 5', 'Green Area4 out of 5...</td>\n",
       "      <td>V70296402</td>\n",
       "      <td>1100.0</td>\n",
       "      <td>3123.0</td>\n",
       "    </tr>\n",
       "  </tbody>\n",
       "</table>\n",
       "<p>3006 rows × 22 columns</p>\n",
       "</div>"
      ],
      "text/plain": [
       "                         property_name  \\\n",
       "0         2 BHK Flat in Krishna Colony   \n",
       "1            2 BHK Flat in Ashok Vihar   \n",
       "2                  2 BHK Flat in Sohna   \n",
       "3      2 BHK Flat in Sector 61 Gurgaon   \n",
       "4      2 BHK Flat in Sector 92 Gurgaon   \n",
       "...                                ...   \n",
       "3012   3 BHK Flat in Sector 86 Gurgaon   \n",
       "3013   5 BHK Flat in Sector 48 Gurgaon   \n",
       "3014  3 BHK Flat in Sector 108 Gurgaon   \n",
       "3015         3 BHK Flat in DLF Phase 3   \n",
       "3016   4 BHK Flat in Sector 54 Gurgaon   \n",
       "\n",
       "                                                   link  \\\n",
       "0     https://www.99acres.com/2-bhk-bedroom-apartmen...   \n",
       "1     https://www.99acres.com/2-bhk-bedroom-apartmen...   \n",
       "2     https://www.99acres.com/2-bhk-bedroom-apartmen...   \n",
       "3     https://www.99acres.com/2-bhk-bedroom-apartmen...   \n",
       "4     https://www.99acres.com/2-bhk-bedroom-apartmen...   \n",
       "...                                                 ...   \n",
       "3012  https://www.99acres.com/3-bhk-bedroom-apartmen...   \n",
       "3013  https://www.99acres.com/5-bhk-bedroom-apartmen...   \n",
       "3014  https://www.99acres.com/3-bhk-bedroom-apartmen...   \n",
       "3015  https://www.99acres.com/3-bhk-bedroom-apartmen...   \n",
       "3016  https://www.99acres.com/4-bhk-bedroom-apartmen...   \n",
       "\n",
       "                         society       price             rate  \\\n",
       "0         maa bhagwati residency      45 Lac   ₹ 5,000/sq.ft.   \n",
       "1                   Apna Enclave      50 Lac   ₹ 7,692/sq.ft.   \n",
       "2         Tulsiani Easy in Homes      40 Lac   ₹ 6,722/sq.ft.   \n",
       "3            Smart World Orchard  1.47 Crore  ₹ 12,250/sq.ft.   \n",
       "4               Parkwood Westend      70 Lac   ₹ 5,204/sq.ft.   \n",
       "...                          ...         ...              ...   \n",
       "3012            Ansal Heights 86  1.05 Crore   ₹ 5,541/sq.ft.   \n",
       "3013  Parsvnath Green Ville3.9 ★   3.3 Crore   ₹ 9,984/sq.ft.   \n",
       "3014        Raheja Vedaanta3.6 ★      95 Lac   ₹ 5,214/sq.ft.   \n",
       "3015        Ambience Lagoon3.9 ★   5.8 Crore  ₹ 12,500/sq.ft.   \n",
       "3016          DLF The Crest3.6 ★    11 Crore  ₹ 35,222/sq.ft.   \n",
       "\n",
       "                                           areaWithType     bedRoom  \\\n",
       "0                        Carpet area: 900 (83.61 sq.m.)  2 Bedrooms   \n",
       "1                        Carpet area: 650 (60.39 sq.m.)  2 Bedrooms   \n",
       "2                        Carpet area: 595 (55.28 sq.m.)  2 Bedrooms   \n",
       "3                      Carpet area: 1200 (111.48 sq.m.)  2 Bedrooms   \n",
       "4               Super Built up area: 1345(124.95 sq.m.)  2 Bedrooms   \n",
       "...                                                 ...         ...   \n",
       "3012            Super Built up area: 1895(176.05 sq.m.)  3 Bedrooms   \n",
       "3013  Super Built up area: 3905(362.79 sq.m.)Built U...  5 Bedrooms   \n",
       "3014            Super Built up area: 1822(169.27 sq.m.)  3 Bedrooms   \n",
       "3015                 Built Up area: 3700 (343.74 sq.m.)  3 Bedrooms   \n",
       "3016            Super Built up area: 3123(290.14 sq.m.)  4 Bedrooms   \n",
       "\n",
       "         bathroom       balcony                             additionalRoom  \\\n",
       "0     2 Bathrooms     1 Balcony                                        NaN   \n",
       "1     2 Bathrooms     1 Balcony                                        NaN   \n",
       "2     2 Bathrooms   3 Balconies                                        NaN   \n",
       "3     2 Bathrooms   2 Balconies                                 Study Room   \n",
       "4     2 Bathrooms   3 Balconies                                 Study Room   \n",
       "...           ...           ...                                        ...   \n",
       "3012  3 Bathrooms   3 Balconies                               Servant Room   \n",
       "3013  5 Bathrooms  3+ Balconies                               Servant Room   \n",
       "3014  3 Bathrooms   3 Balconies                                     Others   \n",
       "3015  4 Bathrooms  3+ Balconies  Pooja Room,Study Room,Servant Room,Others   \n",
       "3016  6 Bathrooms   3 Balconies                               Servant Room   \n",
       "\n",
       "      ...      facing       agePossession  \\\n",
       "0     ...        West     1 to 5 Year Old   \n",
       "1     ...        West        10+ Year Old   \n",
       "2     ...         NaN     0 to 1 Year Old   \n",
       "3     ...         NaN              Dec-23   \n",
       "4     ...         NaN  Under Construction   \n",
       "...   ...         ...                 ...   \n",
       "3012  ...  North-East  Under Construction   \n",
       "3013  ...         NaN        10+ Year Old   \n",
       "3014  ...         NaN     1 to 5 Year Old   \n",
       "3015  ...  North-East        10+ Year Old   \n",
       "3016  ...         NaN     1 to 5 Year Old   \n",
       "\n",
       "                                        nearbyLocations  \\\n",
       "0     ['Chintapurni Mandir', 'State bank ATM', 'Pear...   \n",
       "1     ['Chintapurni Mandir', 'Sheetla Mata Mandir', ...   \n",
       "2     ['Huda City Metro', 'Golf Course extn road', '...   \n",
       "3     ['Sector 55-56 Metro station', 'Bestech Centra...   \n",
       "4     ['Yadav Clinic', 'Bangali Clinic', 'Dr. J. S. ...   \n",
       "...                                                 ...   \n",
       "3012  ['IRIS Broadway Mall', 'Delhi Jaipur Expresswa...   \n",
       "3013  ['Sri Radhe Krishna Temple', 'Icici bank ATM',...   \n",
       "3014                                                NaN   \n",
       "3015  ['Micromax moulsari avenue metro station', 'In...   \n",
       "3016  ['Sector 53-54 Metro Station', 'Ardee Mall', '...   \n",
       "\n",
       "                                            description  \\\n",
       "0     So with lift.Maa bhagwati residency is one of ...   \n",
       "1     Property situated on main road, railway statio...   \n",
       "2     This property is 15 km away from badshapur, gu...   \n",
       "3     Near to metro station of sector 56 and opposit...   \n",
       "4     We are the proud owners of this 2 bhk alongwit...   \n",
       "...                                                 ...   \n",
       "3012  Residential apartment for sell.Located in sect...   \n",
       "3013  5 bhk duplex penthouse in low rise building.Av...   \n",
       "3014  3 bedroom flat with full woodwork. Ready to mo...   \n",
       "3015  Luxury condominium complex located on delhi gu...   \n",
       "3016           Club & pool facing\\nVrv air conditioning   \n",
       "\n",
       "                                         furnishDetails  \\\n",
       "0     ['3 Fan', '4 Light', '1 Wardrobe', 'No AC', 'N...   \n",
       "1     ['3 Wardrobe', '4 Fan', '1 Exhaust Fan', '1 Ge...   \n",
       "2                                                   NaN   \n",
       "3                                                   NaN   \n",
       "4                                                    []   \n",
       "...                                                 ...   \n",
       "3012                                                 []   \n",
       "3013                                                NaN   \n",
       "3014                                                 []   \n",
       "3015  ['1 Water Purifier', '10 Fan', '1 Fridge', '1 ...   \n",
       "3016  ['6 Fan', '1 Fridge', '1 Exhaust Fan', '5 Geys...   \n",
       "\n",
       "                                               features  \\\n",
       "0     ['Feng Shui / Vaastu Compliant', 'Security / F...   \n",
       "1     ['Security / Fire Alarm', 'Maintenance Staff',...   \n",
       "2     ['Power Back-up', 'Feng Shui / Vaastu Complian...   \n",
       "3     ['Security / Fire Alarm', 'Private Garden / Te...   \n",
       "4                                                   NaN   \n",
       "...                                                 ...   \n",
       "3012                                                NaN   \n",
       "3013  ['Security / Fire Alarm', 'Private Garden / Te...   \n",
       "3014  ['Security / Fire Alarm', 'Feng Shui / Vaastu ...   \n",
       "3015  ['Security / Fire Alarm', 'Private Garden / Te...   \n",
       "3016  ['Security / Fire Alarm', 'Power Back-up', 'In...   \n",
       "\n",
       "                                                 rating property_id  \\\n",
       "0     ['Environment4 out of 5', 'Safety4 out of 5', ...   C68850746   \n",
       "1     ['Environment4 out of 5', 'Safety4 out of 5', ...   H68850564   \n",
       "2     ['Environment4 out of 5', 'Safety4 out of 5', ...   J68850120   \n",
       "3                                                   NaN   S68849476   \n",
       "4     ['Environment5 out of 5', 'Safety3 out of 5', ...   L47956793   \n",
       "...                                                 ...         ...   \n",
       "3012  ['Safety4.5 out of 5', 'Lifestyle5 out of 5', ...   D26586124   \n",
       "3013  ['Management4 out of 5', 'Green Area4 out of 5...   J17123294   \n",
       "3014  ['Management3 out of 5', 'Green Area4 out of 5...   A41215323   \n",
       "3015  ['Management5 out of 5', 'Green Area5 out of 5...   J18888617   \n",
       "3016  ['Management4 out of 5', 'Green Area4 out of 5...   V70296402   \n",
       "\n",
       "     price in lacs total area  \n",
       "0             45.0      900.0  \n",
       "1             50.0      650.0  \n",
       "2             40.0      595.0  \n",
       "3            147.0     1200.0  \n",
       "4             70.0     1345.0  \n",
       "...            ...        ...  \n",
       "3012         105.0     1895.0  \n",
       "3013         330.0     3905.0  \n",
       "3014          95.0     1822.0  \n",
       "3015         580.0     3700.0  \n",
       "3016        1100.0     3123.0  \n",
       "\n",
       "[3006 rows x 22 columns]"
      ]
     },
     "execution_count": 12,
     "metadata": {},
     "output_type": "execute_result"
    }
   ],
   "source": [
    "df"
   ]
  },
  {
   "cell_type": "code",
   "execution_count": 13,
   "id": "64ff9883",
   "metadata": {
    "execution": {
     "iopub.execute_input": "2024-01-14T17:18:02.464760Z",
     "iopub.status.busy": "2024-01-14T17:18:02.463954Z",
     "iopub.status.idle": "2024-01-14T17:18:02.471918Z",
     "shell.execute_reply": "2024-01-14T17:18:02.470919Z"
    },
    "papermill": {
     "duration": 0.024531,
     "end_time": "2024-01-14T17:18:02.474558",
     "exception": false,
     "start_time": "2024-01-14T17:18:02.450027",
     "status": "completed"
    },
    "tags": []
   },
   "outputs": [
    {
     "data": {
      "text/plain": [
       "facing\n",
       "North-East    506\n",
       "East          491\n",
       "North         302\n",
       "South         203\n",
       "West          183\n",
       "North-West    162\n",
       "South-East    144\n",
       "South-West    135\n",
       "Name: count, dtype: int64"
      ]
     },
     "execution_count": 13,
     "metadata": {},
     "output_type": "execute_result"
    }
   ],
   "source": [
    "df.facing.value_counts()"
   ]
  },
  {
   "cell_type": "code",
   "execution_count": 14,
   "id": "7f9cc7ec",
   "metadata": {
    "execution": {
     "iopub.execute_input": "2024-01-14T17:18:02.501962Z",
     "iopub.status.busy": "2024-01-14T17:18:02.501528Z",
     "iopub.status.idle": "2024-01-14T17:18:02.509748Z",
     "shell.execute_reply": "2024-01-14T17:18:02.508682Z"
    },
    "papermill": {
     "duration": 0.02482,
     "end_time": "2024-01-14T17:18:02.512071",
     "exception": false,
     "start_time": "2024-01-14T17:18:02.487251",
     "status": "completed"
    },
    "tags": []
   },
   "outputs": [
    {
     "data": {
      "text/plain": [
       "bedRoom\n",
       "3 Bedrooms    1439\n",
       "2 Bedrooms     946\n",
       "4 Bedrooms     481\n",
       "1 Bedroom      105\n",
       "5 Bedrooms      32\n",
       "6 Bedrooms       3\n",
       "Name: count, dtype: int64"
      ]
     },
     "execution_count": 14,
     "metadata": {},
     "output_type": "execute_result"
    }
   ],
   "source": [
    "df.bedRoom.value_counts()"
   ]
  },
  {
   "cell_type": "code",
   "execution_count": 15,
   "id": "7a10c7e3",
   "metadata": {
    "execution": {
     "iopub.execute_input": "2024-01-14T17:18:02.540218Z",
     "iopub.status.busy": "2024-01-14T17:18:02.539440Z",
     "iopub.status.idle": "2024-01-14T17:18:02.548039Z",
     "shell.execute_reply": "2024-01-14T17:18:02.546959Z"
    },
    "papermill": {
     "duration": 0.024675,
     "end_time": "2024-01-14T17:18:02.550149",
     "exception": false,
     "start_time": "2024-01-14T17:18:02.525474",
     "status": "completed"
    },
    "tags": []
   },
   "outputs": [
    {
     "data": {
      "text/plain": [
       "bathroom\n",
       "2 Bathrooms    1045\n",
       "3 Bathrooms     991\n",
       "4 Bathrooms     638\n",
       "5 Bathrooms     170\n",
       "1 Bathroom      115\n",
       "6 Bathrooms      42\n",
       "7 Bathrooms       5\n",
       "Name: count, dtype: int64"
      ]
     },
     "execution_count": 15,
     "metadata": {},
     "output_type": "execute_result"
    }
   ],
   "source": [
    "df.bathroom.value_counts()"
   ]
  },
  {
   "cell_type": "code",
   "execution_count": 16,
   "id": "7e3b7cf5",
   "metadata": {
    "execution": {
     "iopub.execute_input": "2024-01-14T17:18:02.577676Z",
     "iopub.status.busy": "2024-01-14T17:18:02.577327Z",
     "iopub.status.idle": "2024-01-14T17:18:02.585150Z",
     "shell.execute_reply": "2024-01-14T17:18:02.584056Z"
    },
    "papermill": {
     "duration": 0.024388,
     "end_time": "2024-01-14T17:18:02.587429",
     "exception": false,
     "start_time": "2024-01-14T17:18:02.563041",
     "status": "completed"
    },
    "tags": []
   },
   "outputs": [
    {
     "data": {
      "text/plain": [
       "balcony\n",
       "3 Balconies     976\n",
       "3+ Balconies    863\n",
       "2 Balconies     751\n",
       "1 Balcony       318\n",
       "No Balcony       98\n",
       "Name: count, dtype: int64"
      ]
     },
     "execution_count": 16,
     "metadata": {},
     "output_type": "execute_result"
    }
   ],
   "source": [
    "df.balcony.value_counts()"
   ]
  },
  {
   "cell_type": "markdown",
   "id": "0f4fd3d8",
   "metadata": {
    "papermill": {
     "duration": 0.012685,
     "end_time": "2024-01-14T17:18:02.613390",
     "exception": false,
     "start_time": "2024-01-14T17:18:02.600705",
     "status": "completed"
    },
    "tags": []
   },
   "source": [
    "### Insights\n",
    "* We have removed null values in respect of columns: bedRoom, bathroom, balcony, society, price\n",
    "* We have added 2 new columns in dataset named: \"price in lacs\" and \"total area\"\n",
    "* We checked out all unique value in respect of columns: facing, bedRoom, bathrrom, balcony"
   ]
  },
  {
   "cell_type": "markdown",
   "id": "1fbec8aa",
   "metadata": {
    "papermill": {
     "duration": 0.012629,
     "end_time": "2024-01-14T17:18:02.638966",
     "exception": false,
     "start_time": "2024-01-14T17:18:02.626337",
     "status": "completed"
    },
    "tags": []
   },
   "source": [
    "# **Exploratory Analysis and Visualization**"
   ]
  },
  {
   "cell_type": "code",
   "execution_count": 17,
   "id": "594ba2a7",
   "metadata": {
    "execution": {
     "iopub.execute_input": "2024-01-14T17:18:02.666915Z",
     "iopub.status.busy": "2024-01-14T17:18:02.666534Z",
     "iopub.status.idle": "2024-01-14T17:18:04.101543Z",
     "shell.execute_reply": "2024-01-14T17:18:04.100171Z"
    },
    "papermill": {
     "duration": 1.452194,
     "end_time": "2024-01-14T17:18:04.104159",
     "exception": false,
     "start_time": "2024-01-14T17:18:02.651965",
     "status": "completed"
    },
    "tags": []
   },
   "outputs": [],
   "source": [
    "# importing visualization libraries\n",
    "import matplotlib.pyplot as plt\n",
    "import seaborn as sns"
   ]
  },
  {
   "cell_type": "markdown",
   "id": "7ac9aedc",
   "metadata": {
    "papermill": {
     "duration": 0.013151,
     "end_time": "2024-01-14T17:18:04.130484",
     "exception": false,
     "start_time": "2024-01-14T17:18:04.117333",
     "status": "completed"
    },
    "tags": []
   },
   "source": [
    "# **Task**\n",
    "\n",
    "1. How many flats are listed in each society?\n",
    "2. What is the average price of 2 BHK flats?\n",
    "3. Count the number of flats available in each bedroom category.\n",
    "4. What is the distribution of flats based on the number of bathrooms?\n",
    "5. Determine the average area of flats for each type of facing.\n",
    "6. Analyze the correlation between the area of flats and their prices.\n",
    "7. Create a histogram to visualize the distribution of flat prices."
   ]
  },
  {
   "cell_type": "markdown",
   "id": "d56584aa",
   "metadata": {
    "papermill": {
     "duration": 0.012923,
     "end_time": "2024-01-14T17:18:04.156689",
     "exception": false,
     "start_time": "2024-01-14T17:18:04.143766",
     "status": "completed"
    },
    "tags": []
   },
   "source": [
    "### **1. How many flats are listed in each society?**"
   ]
  },
  {
   "cell_type": "code",
   "execution_count": 18,
   "id": "3ea0b4c3",
   "metadata": {
    "execution": {
     "iopub.execute_input": "2024-01-14T17:18:04.185516Z",
     "iopub.status.busy": "2024-01-14T17:18:04.184480Z",
     "iopub.status.idle": "2024-01-14T17:18:04.194755Z",
     "shell.execute_reply": "2024-01-14T17:18:04.193630Z"
    },
    "papermill": {
     "duration": 0.026981,
     "end_time": "2024-01-14T17:18:04.196800",
     "exception": false,
     "start_time": "2024-01-14T17:18:04.169819",
     "status": "completed"
    },
    "tags": []
   },
   "outputs": [
    {
     "data": {
      "text/plain": [
       "society\n",
       "SS The Leaf3.8 ★                             73\n",
       "Tulip Violet4.3 ★                            40\n",
       "Shapoorji Pallonji Joyville Gurugram4.0 ★    39\n",
       "Signature Global Park4.0 ★                   36\n",
       "Shree Vardhman Victoria3.8 ★                 35\n",
       "                                             ..\n",
       "shree kirpalu gi sector 52                    1\n",
       "Meditech Apartment                            1\n",
       "Mariners Home                                 1\n",
       "IMT View Society                              1\n",
       "Spire Woods Now Ananda by Alpha corp          1\n",
       "Name: count, Length: 635, dtype: int64"
      ]
     },
     "execution_count": 18,
     "metadata": {},
     "output_type": "execute_result"
    }
   ],
   "source": [
    "D = df.society.value_counts()\n",
    "D"
   ]
  },
  {
   "cell_type": "code",
   "execution_count": 19,
   "id": "85cc88c8",
   "metadata": {
    "execution": {
     "iopub.execute_input": "2024-01-14T17:18:04.225690Z",
     "iopub.status.busy": "2024-01-14T17:18:04.224589Z",
     "iopub.status.idle": "2024-01-14T17:18:04.704195Z",
     "shell.execute_reply": "2024-01-14T17:18:04.703376Z"
    },
    "papermill": {
     "duration": 0.496547,
     "end_time": "2024-01-14T17:18:04.706689",
     "exception": false,
     "start_time": "2024-01-14T17:18:04.210142",
     "status": "completed"
    },
    "tags": []
   },
   "outputs": [
    {
     "data": {
      "image/png": "[encoded data removed]",
      "text/plain": [
       "<Figure size 1600x900 with 1 Axes>"
      ]
     },
     "metadata": {},
     "output_type": "display_data"
    }
   ],
   "source": [
    "a = D.head().index\n",
    "b = D.head().values\n",
    "def addlabels(a,b):\n",
    "    for i in range(len(a)):\n",
    "        plt.text(i, b[i], b[i], ha = 'center',fontweight = \"bold\")\n",
    "fig = plt.figure(figsize = (16,9))\n",
    "sns.barplot(data = df, x = a, y = b, width = 0.3,hue=a,palette=sns.color_palette(\"BuGn_r\"), \n",
    "            dodge=False).set(xlabel = None)\n",
    "plt.legend(title='Name of Society',bbox_to_anchor=(1, 1), loc='upper left')\n",
    "plt.title(\"Top 5 Society with Max No. of Flats\",fontsize=20,fontweight = \"bold\")\n",
    "plt.ylabel(\"Number of Flats\",fontweight = \"bold\")\n",
    "plt.xticks([])\n",
    "addlabels(a,b)\n",
    "plt.show()"
   ]
  },
  {
   "cell_type": "markdown",
   "id": "8bf0c53f",
   "metadata": {
    "papermill": {
     "duration": 0.013788,
     "end_time": "2024-01-14T17:18:04.735623",
     "exception": false,
     "start_time": "2024-01-14T17:18:04.721835",
     "status": "completed"
    },
    "tags": []
   },
   "source": [
    "### **2. What is the average price of 2 BHK flats?**"
   ]
  },
  {
   "cell_type": "code",
   "execution_count": 20,
   "id": "40c14035",
   "metadata": {
    "execution": {
     "iopub.execute_input": "2024-01-14T17:18:04.766779Z",
     "iopub.status.busy": "2024-01-14T17:18:04.765888Z",
     "iopub.status.idle": "2024-01-14T17:18:04.776295Z",
     "shell.execute_reply": "2024-01-14T17:18:04.775383Z"
    },
    "papermill": {
     "duration": 0.028243,
     "end_time": "2024-01-14T17:18:04.778603",
     "exception": false,
     "start_time": "2024-01-14T17:18:04.750360",
     "status": "completed"
    },
    "tags": []
   },
   "outputs": [
    {
     "name": "stdout",
     "output_type": "stream",
     "text": [
      "Average price of 2 BHK Flats is:\n"
     ]
    },
    {
     "data": {
      "text/plain": [
       "88.98437367303609"
      ]
     },
     "execution_count": 20,
     "metadata": {},
     "output_type": "execute_result"
    }
   ],
   "source": [
    "print('Average price of 2 BHK Flats is:')\n",
    "df.loc[df['bedRoom']=='2 Bedrooms','price in lacs'].mean()"
   ]
  },
  {
   "cell_type": "code",
   "execution_count": 21,
   "id": "9a6d60ff",
   "metadata": {
    "execution": {
     "iopub.execute_input": "2024-01-14T17:18:04.809326Z",
     "iopub.status.busy": "2024-01-14T17:18:04.808614Z",
     "iopub.status.idle": "2024-01-14T17:18:05.278620Z",
     "shell.execute_reply": "2024-01-14T17:18:05.277799Z"
    },
    "papermill": {
     "duration": 0.488063,
     "end_time": "2024-01-14T17:18:05.281085",
     "exception": false,
     "start_time": "2024-01-14T17:18:04.793022",
     "status": "completed"
    },
    "tags": []
   },
   "outputs": [
    {
     "data": {
      "image/png": "[encoded data removed]",
      "text/plain": [
       "<Figure size 1600x900 with 1 Axes>"
      ]
     },
     "metadata": {},
     "output_type": "display_data"
    }
   ],
   "source": [
    "E = round(df.groupby('bedRoom',as_index = False)['price in lacs'].mean(),2)\n",
    "a = E['bedRoom']\n",
    "b = E['price in lacs']\n",
    "def addlabels(a,b):\n",
    "    for i in range(len(a)):\n",
    "        plt.text(i, b[i], b[i], ha = 'center', fontweight = \"bold\")\n",
    "fig = plt.figure(figsize = (16,9))\n",
    "sns.barplot(data = df, x = a, y = b, width = 0.3,hue=a,palette=sns.color_palette(\"BuGn_r\", 10), \n",
    "            dodge=False).set(xlabel=None)\n",
    "plt.legend(title='Bedroom Category',bbox_to_anchor=(1, 1), loc='upper left')\n",
    "plt.title(\"Average Price of each Category Flats\",fontsize=20,fontweight = \"bold\")\n",
    "plt.ylabel(\"Average Price\",fontweight = \"bold\")\n",
    "plt.xticks([])\n",
    "addlabels(a,b)\n",
    "plt.show()"
   ]
  },
  {
   "cell_type": "markdown",
   "id": "8c08915e",
   "metadata": {
    "papermill": {
     "duration": 0.0146,
     "end_time": "2024-01-14T17:18:05.311659",
     "exception": false,
     "start_time": "2024-01-14T17:18:05.297059",
     "status": "completed"
    },
    "tags": []
   },
   "source": [
    "### **3. Count the number of flats available in each bedroom category.**"
   ]
  },
  {
   "cell_type": "code",
   "execution_count": 22,
   "id": "2ffe202f",
   "metadata": {
    "execution": {
     "iopub.execute_input": "2024-01-14T17:18:05.344092Z",
     "iopub.status.busy": "2024-01-14T17:18:05.343098Z",
     "iopub.status.idle": "2024-01-14T17:18:05.602095Z",
     "shell.execute_reply": "2024-01-14T17:18:05.601142Z"
    },
    "papermill": {
     "duration": 0.277661,
     "end_time": "2024-01-14T17:18:05.604314",
     "exception": false,
     "start_time": "2024-01-14T17:18:05.326653",
     "status": "completed"
    },
    "tags": []
   },
   "outputs": [
    {
     "data": {
      "image/png": "[encoded data removed]",
      "text/plain": [
       "<Figure size 1200x700 with 1 Axes>"
      ]
     },
     "metadata": {},
     "output_type": "display_data"
    }
   ],
   "source": [
    "F = df.bedRoom.value_counts()\n",
    "fig = plt.figure(figsize = (12,7))\n",
    "def func(pct, allvals):\n",
    "    absolute = int(np.round(pct/100.*np.sum(allvals)))\n",
    "    return f\"{absolute:d} \"\n",
    "plt.pie(data=df, x= F.values,colors = sns.color_palette(\"BuGn_r\"), \n",
    "        autopct=lambda pct: func(pct, F.values),pctdistance= 1.05)\n",
    "plt.legend(labels= F.index,title='Bedroom Category', loc='center left',\n",
    "           bbox_to_anchor=(1,0, 0.5, 1))\n",
    "plt.title('No. of Flats in each Bedroom Category',fontsize=15,fontweight = \"bold\")\n",
    "plt.show()"
   ]
  },
  {
   "cell_type": "markdown",
   "id": "e83fba4a",
   "metadata": {
    "papermill": {
     "duration": 0.01558,
     "end_time": "2024-01-14T17:18:05.635718",
     "exception": false,
     "start_time": "2024-01-14T17:18:05.620138",
     "status": "completed"
    },
    "tags": []
   },
   "source": [
    "### **4. What is the distribution of flats based on the number of bathrooms?**"
   ]
  },
  {
   "cell_type": "code",
   "execution_count": 23,
   "id": "5a8caaed",
   "metadata": {
    "execution": {
     "iopub.execute_input": "2024-01-14T17:18:05.669717Z",
     "iopub.status.busy": "2024-01-14T17:18:05.668974Z",
     "iopub.status.idle": "2024-01-14T17:18:05.941168Z",
     "shell.execute_reply": "2024-01-14T17:18:05.940036Z"
    },
    "papermill": {
     "duration": 0.291892,
     "end_time": "2024-01-14T17:18:05.943521",
     "exception": false,
     "start_time": "2024-01-14T17:18:05.651629",
     "status": "completed"
    },
    "tags": []
   },
   "outputs": [
    {
     "data": {
      "image/png": "[encoded data removed]",
      "text/plain": [
       "<Figure size 1200x700 with 1 Axes>"
      ]
     },
     "metadata": {},
     "output_type": "display_data"
    }
   ],
   "source": [
    "G = df.bathroom.value_counts()\n",
    "fig = plt.figure(figsize = (12,7))\n",
    "plt.pie(data=df, x= G.values,colors = sns.color_palette(\"BuGn_r\",7), \n",
    "        autopct='%1.1f%%',pctdistance= 1.1)\n",
    "centre_circle = plt.Circle((0, 0), 0.70, fc='white')\n",
    "fig.gca().add_artist(centre_circle)\n",
    "plt.legend(labels= G.index,title='Bathroom Category', loc='center left',\n",
    "           bbox_to_anchor=(1,0, 0.5, 1))\n",
    "plt.title('Distribution of Flats based on Bathroom Category',fontsize=15,fontweight = \"bold\")\n",
    "plt.show()"
   ]
  },
  {
   "cell_type": "markdown",
   "id": "73413979",
   "metadata": {
    "papermill": {
     "duration": 0.025121,
     "end_time": "2024-01-14T17:18:05.991030",
     "exception": false,
     "start_time": "2024-01-14T17:18:05.965909",
     "status": "completed"
    },
    "tags": []
   },
   "source": [
    "### **5. Determine the average area of flats for each type of facing.**"
   ]
  },
  {
   "cell_type": "code",
   "execution_count": 24,
   "id": "2881c6a9",
   "metadata": {
    "execution": {
     "iopub.execute_input": "2024-01-14T17:18:06.036290Z",
     "iopub.status.busy": "2024-01-14T17:18:06.035513Z",
     "iopub.status.idle": "2024-01-14T17:18:06.599682Z",
     "shell.execute_reply": "2024-01-14T17:18:06.598548Z"
    },
    "papermill": {
     "duration": 0.589997,
     "end_time": "2024-01-14T17:18:06.602057",
     "exception": false,
     "start_time": "2024-01-14T17:18:06.012060",
     "status": "completed"
    },
    "tags": []
   },
   "outputs": [
    {
     "data": {
      "image/png": "[encoded data removed]",
      "text/plain": [
       "<Figure size 1600x900 with 1 Axes>"
      ]
     },
     "metadata": {},
     "output_type": "display_data"
    }
   ],
   "source": [
    "H = round(df.groupby('facing',as_index = False)['total area'].mean(),2)\n",
    "a = H['facing']\n",
    "b = H['total area']\n",
    "fig = plt.figure(figsize = (16,9))\n",
    "sns.barplot(data = df, x = b, y = a,orient='h', width = 0.6,hue=a,palette=sns.color_palette(\"BuGn_r\", 10), \n",
    "            dodge=False).set(ylabel=None)\n",
    "plt.legend(title='Facing Category', loc='upper right')\n",
    "plt.title(\"Average Area of Flats for each type of Facing\",fontsize=20,fontweight = \"bold\")\n",
    "plt.xlabel(\"Average Area\",fontweight = \"bold\")\n",
    "plt.yticks([])\n",
    "for i, v in enumerate(b):\n",
    "    plt.text(v + 100, i + 0, str(v), color='black', fontweight='bold')\n",
    "plt.show()"
   ]
  },
  {
   "cell_type": "markdown",
   "id": "6f804d6e",
   "metadata": {
    "papermill": {
     "duration": 0.017451,
     "end_time": "2024-01-14T17:18:06.637637",
     "exception": false,
     "start_time": "2024-01-14T17:18:06.620186",
     "status": "completed"
    },
    "tags": []
   },
   "source": [
    "### **6. Analyze the correlation between the area of flats and their prices**"
   ]
  },
  {
   "cell_type": "code",
   "execution_count": 25,
   "id": "f2662e67",
   "metadata": {
    "execution": {
     "iopub.execute_input": "2024-01-14T17:18:06.675906Z",
     "iopub.status.busy": "2024-01-14T17:18:06.675473Z",
     "iopub.status.idle": "2024-01-14T17:18:06.685808Z",
     "shell.execute_reply": "2024-01-14T17:18:06.684773Z"
    },
    "papermill": {
     "duration": 0.032477,
     "end_time": "2024-01-14T17:18:06.688032",
     "exception": false,
     "start_time": "2024-01-14T17:18:06.655555",
     "status": "completed"
    },
    "tags": []
   },
   "outputs": [
    {
     "data": {
      "text/plain": [
       "-0.009468315741014467"
      ]
     },
     "execution_count": 25,
     "metadata": {},
     "output_type": "execute_result"
    }
   ],
   "source": [
    "df['price in lacs'].corr(df['total area'])"
   ]
  },
  {
   "cell_type": "markdown",
   "id": "80c0baf9",
   "metadata": {
    "papermill": {
     "duration": 0.018282,
     "end_time": "2024-01-14T17:18:06.724646",
     "exception": false,
     "start_time": "2024-01-14T17:18:06.706364",
     "status": "completed"
    },
    "tags": []
   },
   "source": [
    "No correlation found between areas and prices.\n",
    "Given that the corr function returns a value of -0.00947, which is nearly 0, this shows a no relation which means that \"movement in one variable cannot be predicted from the other\"."
   ]
  },
  {
   "cell_type": "markdown",
   "id": "43f956fc",
   "metadata": {
    "papermill": {
     "duration": 0.017532,
     "end_time": "2024-01-14T17:18:06.760195",
     "exception": false,
     "start_time": "2024-01-14T17:18:06.742663",
     "status": "completed"
    },
    "tags": []
   },
   "source": [
    "### **7. Create a histogram to visualize the distribution of flat prices.**"
   ]
  },
  {
   "cell_type": "code",
   "execution_count": 26,
   "id": "8cac0409",
   "metadata": {
    "execution": {
     "iopub.execute_input": "2024-01-14T17:18:06.801792Z",
     "iopub.status.busy": "2024-01-14T17:18:06.800963Z",
     "iopub.status.idle": "2024-01-14T17:18:07.212745Z",
     "shell.execute_reply": "2024-01-14T17:18:07.211670Z"
    },
    "papermill": {
     "duration": 0.437233,
     "end_time": "2024-01-14T17:18:07.215411",
     "exception": false,
     "start_time": "2024-01-14T17:18:06.778178",
     "status": "completed"
    },
    "tags": []
   },
   "outputs": [
    {
     "data": {
      "text/plain": [
       "<function matplotlib.pyplot.show(close=None, block=None)>"
      ]
     },
     "execution_count": 26,
     "metadata": {},
     "output_type": "execute_result"
    },
    {
     "data": {
      "image/png": "[encoded data removed]",
      "text/plain": [
       "<Figure size 1600x900 with 1 Axes>"
      ]
     },
     "metadata": {},
     "output_type": "display_data"
    }
   ],
   "source": [
    "fig = plt.figure(figsize = (16,9))\n",
    "sns.histplot(data = df, x = 'price in lacs',color = 'seagreen',bins=20,edgecolor = 'darkgreen')\n",
    "plt.title('Distribution of Flat Prices',fontsize=20,fontweight = \"bold\")\n",
    "plt.xlabel('Price in Lacs',fontweight = \"bold\")\n",
    "plt.ylabel('Count',fontweight = \"bold\")\n",
    "plt.show"
   ]
  },
  {
   "cell_type": "markdown",
   "id": "d744508a",
   "metadata": {
    "papermill": {
     "duration": 0.018933,
     "end_time": "2024-01-14T17:18:07.253634",
     "exception": false,
     "start_time": "2024-01-14T17:18:07.234701",
     "status": "completed"
    },
    "tags": []
   },
   "source": [
    "# **Conclusion**"
   ]
  },
  {
   "cell_type": "markdown",
   "id": "a2ae840a",
   "metadata": {
    "papermill": {
     "duration": 0.018968,
     "end_time": "2024-01-14T17:18:07.291960",
     "exception": false,
     "start_time": "2024-01-14T17:18:07.272992",
     "status": "completed"
    },
    "tags": []
   },
   "source": [
    "* Top 5 Society with max no. of flats are: \n",
    "  1. SS The Leaf3.8 ★\n",
    "  2. Tulip Violet4.3 ★,                     \n",
    "  3. Shapoorji Pallonji Joyville Gurugram4.0 ★\n",
    "  4. Signature Global Park4.0 ★                   \n",
    "  5. Shree Vardhman Victoria3.8 ★ \n",
    "* 5 BHK flats has the highest average price.\n",
    "* Maximum flats are available in 3 BHK category.\n",
    "* Maximum flats are available with 2 and 3 bathroom set.\n",
    "* Flats facing South-West has the highest average area."
   ]
  },
  {
   "cell_type": "markdown",
   "id": "f298dcc2",
   "metadata": {
    "papermill": {
     "duration": 0.018069,
     "end_time": "2024-01-14T17:18:07.328428",
     "exception": false,
     "start_time": "2024-01-14T17:18:07.310359",
     "status": "completed"
    },
    "tags": []
   },
   "source": [
    "<img src = \"https://t3.ftcdn.net/jpg/02/91/52/22/360_F_291522205_XkrmS421FjSGTMRdTrqFZPxDY19VxpmL.jpg\">"
   ]
  },
  {
   "cell_type": "code",
   "execution_count": null,
   "id": "560705a0",
   "metadata": {
    "papermill": {
     "duration": 0.018177,
     "end_time": "2024-01-14T17:18:07.365230",
     "exception": false,
     "start_time": "2024-01-14T17:18:07.347053",
     "status": "completed"
    },
    "tags": []
   },
   "outputs": [],
   "source": []
  }
 ],
 "metadata": {
  "kaggle": {
   "accelerator": "none",
   "dataSources": [
    {
     "datasetId": 3942739,
     "sourceId": 6860294,
     "sourceType": "datasetVersion"
    }
   ],
   "dockerImageVersionId": 30626,
   "isGpuEnabled": false,
   "isInternetEnabled": true,
   "language": "python",
   "sourceType": "notebook"
  },
  "kernelspec": {
   "display_name": "Python 3",
   "language": "python",
   "name": "python3"
  },
  "language_info": {
   "codemirror_mode": {
    "name": "ipython",
    "version": 3
   },
   "file_extension": ".py",
   "mimetype": "text/x-python",
   "name": "python",
   "nbconvert_exporter": "python",
   "pygments_lexer": "ipython3",
   "version": "3.10.12"
  },
  "papermill": {
   "default_parameters": {},
   "duration": 10.673525,
   "end_time": "2024-01-14T17:18:08.004719",
   "environment_variables": {},
   "exception": null,
   "input_path": "__notebook__.ipynb",
   "output_path": "__notebook__.ipynb",
   "parameters": {},
   "start_time": "2024-01-14T17:17:57.331194",
   "version": "2.4.0"
  }
 },
 "nbformat": 4,
 "nbformat_minor": 5
}
